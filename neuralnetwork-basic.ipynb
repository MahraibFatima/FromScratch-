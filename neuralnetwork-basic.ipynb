{
 "cells": [
  {
   "cell_type": "code",
   "execution_count": 1,
   "id": "c076e0bb",
   "metadata": {
    "execution": {
     "iopub.execute_input": "2025-10-28T18:04:31.304468Z",
     "iopub.status.busy": "2025-10-28T18:04:31.304142Z",
     "iopub.status.idle": "2025-10-28T18:04:39.031699Z",
     "shell.execute_reply": "2025-10-28T18:04:39.030772Z"
    },
    "papermill": {
     "duration": 7.735274,
     "end_time": "2025-10-28T18:04:39.033433",
     "exception": false,
     "start_time": "2025-10-28T18:04:31.298159",
     "status": "completed"
    },
    "tags": []
   },
   "outputs": [],
   "source": [
    "import numpy as np \n",
    "import pandas as pd\n",
    "import torch\n",
    "from sklearn.model_selection import train_test_split\n",
    "from sklearn.preprocessing import StandardScaler\n",
    "from sklearn.preprocessing import LabelEncoder"
   ]
  },
  {
   "cell_type": "code",
   "execution_count": 2,
   "id": "b0f5efcb",
   "metadata": {
    "execution": {
     "iopub.execute_input": "2025-10-28T18:04:39.042890Z",
     "iopub.status.busy": "2025-10-28T18:04:39.042458Z",
     "iopub.status.idle": "2025-10-28T18:04:39.345897Z",
     "shell.execute_reply": "2025-10-28T18:04:39.344888Z"
    },
    "papermill": {
     "duration": 0.309729,
     "end_time": "2025-10-28T18:04:39.347457",
     "exception": false,
     "start_time": "2025-10-28T18:04:39.037728",
     "status": "completed"
    },
    "tags": []
   },
   "outputs": [
    {
     "name": "stderr",
     "output_type": "stream",
     "text": [
      "/usr/local/lib/python3.11/dist-packages/pandas/io/formats/format.py:1458: RuntimeWarning: invalid value encountered in greater\n",
      "  has_large_values = (abs_vals > 1e6).any()\n",
      "/usr/local/lib/python3.11/dist-packages/pandas/io/formats/format.py:1459: RuntimeWarning: invalid value encountered in less\n",
      "  has_small_values = ((abs_vals < 10 ** (-self.digits)) & (abs_vals > 0)).any()\n",
      "/usr/local/lib/python3.11/dist-packages/pandas/io/formats/format.py:1459: RuntimeWarning: invalid value encountered in greater\n",
      "  has_small_values = ((abs_vals < 10 ** (-self.digits)) & (abs_vals > 0)).any()\n",
      "/usr/local/lib/python3.11/dist-packages/pandas/io/formats/format.py:1458: RuntimeWarning: invalid value encountered in greater\n",
      "  has_large_values = (abs_vals > 1e6).any()\n",
      "/usr/local/lib/python3.11/dist-packages/pandas/io/formats/format.py:1459: RuntimeWarning: invalid value encountered in less\n",
      "  has_small_values = ((abs_vals < 10 ** (-self.digits)) & (abs_vals > 0)).any()\n",
      "/usr/local/lib/python3.11/dist-packages/pandas/io/formats/format.py:1459: RuntimeWarning: invalid value encountered in greater\n",
      "  has_small_values = ((abs_vals < 10 ** (-self.digits)) & (abs_vals > 0)).any()\n"
     ]
    },
    {
     "data": {
      "text/html": [
       "<div>\n",
       "<style scoped>\n",
       "    .dataframe tbody tr th:only-of-type {\n",
       "        vertical-align: middle;\n",
       "    }\n",
       "\n",
       "    .dataframe tbody tr th {\n",
       "        vertical-align: top;\n",
       "    }\n",
       "\n",
       "    .dataframe thead th {\n",
       "        text-align: right;\n",
       "    }\n",
       "</style>\n",
       "<table border=\"1\" class=\"dataframe\">\n",
       "  <thead>\n",
       "    <tr style=\"text-align: right;\">\n",
       "      <th></th>\n",
       "      <th>id</th>\n",
       "      <th>diagnosis</th>\n",
       "      <th>radius_mean</th>\n",
       "      <th>texture_mean</th>\n",
       "      <th>perimeter_mean</th>\n",
       "      <th>area_mean</th>\n",
       "      <th>smoothness_mean</th>\n",
       "      <th>compactness_mean</th>\n",
       "      <th>concavity_mean</th>\n",
       "      <th>concave points_mean</th>\n",
       "      <th>...</th>\n",
       "      <th>texture_worst</th>\n",
       "      <th>perimeter_worst</th>\n",
       "      <th>area_worst</th>\n",
       "      <th>smoothness_worst</th>\n",
       "      <th>compactness_worst</th>\n",
       "      <th>concavity_worst</th>\n",
       "      <th>concave points_worst</th>\n",
       "      <th>symmetry_worst</th>\n",
       "      <th>fractal_dimension_worst</th>\n",
       "      <th>Unnamed: 32</th>\n",
       "    </tr>\n",
       "  </thead>\n",
       "  <tbody>\n",
       "    <tr>\n",
       "      <th>0</th>\n",
       "      <td>842302</td>\n",
       "      <td>M</td>\n",
       "      <td>17.99</td>\n",
       "      <td>10.38</td>\n",
       "      <td>122.80</td>\n",
       "      <td>1001.0</td>\n",
       "      <td>0.11840</td>\n",
       "      <td>0.27760</td>\n",
       "      <td>0.3001</td>\n",
       "      <td>0.14710</td>\n",
       "      <td>...</td>\n",
       "      <td>17.33</td>\n",
       "      <td>184.60</td>\n",
       "      <td>2019.0</td>\n",
       "      <td>0.1622</td>\n",
       "      <td>0.6656</td>\n",
       "      <td>0.7119</td>\n",
       "      <td>0.2654</td>\n",
       "      <td>0.4601</td>\n",
       "      <td>0.11890</td>\n",
       "      <td>NaN</td>\n",
       "    </tr>\n",
       "    <tr>\n",
       "      <th>1</th>\n",
       "      <td>842517</td>\n",
       "      <td>M</td>\n",
       "      <td>20.57</td>\n",
       "      <td>17.77</td>\n",
       "      <td>132.90</td>\n",
       "      <td>1326.0</td>\n",
       "      <td>0.08474</td>\n",
       "      <td>0.07864</td>\n",
       "      <td>0.0869</td>\n",
       "      <td>0.07017</td>\n",
       "      <td>...</td>\n",
       "      <td>23.41</td>\n",
       "      <td>158.80</td>\n",
       "      <td>1956.0</td>\n",
       "      <td>0.1238</td>\n",
       "      <td>0.1866</td>\n",
       "      <td>0.2416</td>\n",
       "      <td>0.1860</td>\n",
       "      <td>0.2750</td>\n",
       "      <td>0.08902</td>\n",
       "      <td>NaN</td>\n",
       "    </tr>\n",
       "    <tr>\n",
       "      <th>2</th>\n",
       "      <td>84300903</td>\n",
       "      <td>M</td>\n",
       "      <td>19.69</td>\n",
       "      <td>21.25</td>\n",
       "      <td>130.00</td>\n",
       "      <td>1203.0</td>\n",
       "      <td>0.10960</td>\n",
       "      <td>0.15990</td>\n",
       "      <td>0.1974</td>\n",
       "      <td>0.12790</td>\n",
       "      <td>...</td>\n",
       "      <td>25.53</td>\n",
       "      <td>152.50</td>\n",
       "      <td>1709.0</td>\n",
       "      <td>0.1444</td>\n",
       "      <td>0.4245</td>\n",
       "      <td>0.4504</td>\n",
       "      <td>0.2430</td>\n",
       "      <td>0.3613</td>\n",
       "      <td>0.08758</td>\n",
       "      <td>NaN</td>\n",
       "    </tr>\n",
       "    <tr>\n",
       "      <th>3</th>\n",
       "      <td>84348301</td>\n",
       "      <td>M</td>\n",
       "      <td>11.42</td>\n",
       "      <td>20.38</td>\n",
       "      <td>77.58</td>\n",
       "      <td>386.1</td>\n",
       "      <td>0.14250</td>\n",
       "      <td>0.28390</td>\n",
       "      <td>0.2414</td>\n",
       "      <td>0.10520</td>\n",
       "      <td>...</td>\n",
       "      <td>26.50</td>\n",
       "      <td>98.87</td>\n",
       "      <td>567.7</td>\n",
       "      <td>0.2098</td>\n",
       "      <td>0.8663</td>\n",
       "      <td>0.6869</td>\n",
       "      <td>0.2575</td>\n",
       "      <td>0.6638</td>\n",
       "      <td>0.17300</td>\n",
       "      <td>NaN</td>\n",
       "    </tr>\n",
       "    <tr>\n",
       "      <th>4</th>\n",
       "      <td>84358402</td>\n",
       "      <td>M</td>\n",
       "      <td>20.29</td>\n",
       "      <td>14.34</td>\n",
       "      <td>135.10</td>\n",
       "      <td>1297.0</td>\n",
       "      <td>0.10030</td>\n",
       "      <td>0.13280</td>\n",
       "      <td>0.1980</td>\n",
       "      <td>0.10430</td>\n",
       "      <td>...</td>\n",
       "      <td>16.67</td>\n",
       "      <td>152.20</td>\n",
       "      <td>1575.0</td>\n",
       "      <td>0.1374</td>\n",
       "      <td>0.2050</td>\n",
       "      <td>0.4000</td>\n",
       "      <td>0.1625</td>\n",
       "      <td>0.2364</td>\n",
       "      <td>0.07678</td>\n",
       "      <td>NaN</td>\n",
       "    </tr>\n",
       "  </tbody>\n",
       "</table>\n",
       "<p>5 rows × 33 columns</p>\n",
       "</div>"
      ],
      "text/plain": [
       "         id diagnosis  radius_mean  texture_mean  perimeter_mean  area_mean  \\\n",
       "0    842302         M        17.99         10.38          122.80     1001.0   \n",
       "1    842517         M        20.57         17.77          132.90     1326.0   \n",
       "2  84300903         M        19.69         21.25          130.00     1203.0   \n",
       "3  84348301         M        11.42         20.38           77.58      386.1   \n",
       "4  84358402         M        20.29         14.34          135.10     1297.0   \n",
       "\n",
       "   smoothness_mean  compactness_mean  concavity_mean  concave points_mean  \\\n",
       "0          0.11840           0.27760          0.3001              0.14710   \n",
       "1          0.08474           0.07864          0.0869              0.07017   \n",
       "2          0.10960           0.15990          0.1974              0.12790   \n",
       "3          0.14250           0.28390          0.2414              0.10520   \n",
       "4          0.10030           0.13280          0.1980              0.10430   \n",
       "\n",
       "   ...  texture_worst  perimeter_worst  area_worst  smoothness_worst  \\\n",
       "0  ...          17.33           184.60      2019.0            0.1622   \n",
       "1  ...          23.41           158.80      1956.0            0.1238   \n",
       "2  ...          25.53           152.50      1709.0            0.1444   \n",
       "3  ...          26.50            98.87       567.7            0.2098   \n",
       "4  ...          16.67           152.20      1575.0            0.1374   \n",
       "\n",
       "   compactness_worst  concavity_worst  concave points_worst  symmetry_worst  \\\n",
       "0             0.6656           0.7119                0.2654          0.4601   \n",
       "1             0.1866           0.2416                0.1860          0.2750   \n",
       "2             0.4245           0.4504                0.2430          0.3613   \n",
       "3             0.8663           0.6869                0.2575          0.6638   \n",
       "4             0.2050           0.4000                0.1625          0.2364   \n",
       "\n",
       "   fractal_dimension_worst  Unnamed: 32  \n",
       "0                  0.11890          NaN  \n",
       "1                  0.08902          NaN  \n",
       "2                  0.08758          NaN  \n",
       "3                  0.17300          NaN  \n",
       "4                  0.07678          NaN  \n",
       "\n",
       "[5 rows x 33 columns]"
      ]
     },
     "execution_count": 2,
     "metadata": {},
     "output_type": "execute_result"
    }
   ],
   "source": [
    "df = pd.read_csv('https://raw.githubusercontent.com/gscdit/Breast-Cancer-Detection/refs/heads/master/data.csv')\n",
    "df.head()"
   ]
  },
  {
   "cell_type": "code",
   "execution_count": 3,
   "id": "9642500c",
   "metadata": {
    "execution": {
     "iopub.execute_input": "2025-10-28T18:04:39.357147Z",
     "iopub.status.busy": "2025-10-28T18:04:39.356838Z",
     "iopub.status.idle": "2025-10-28T18:04:39.366348Z",
     "shell.execute_reply": "2025-10-28T18:04:39.365300Z"
    },
    "papermill": {
     "duration": 0.015952,
     "end_time": "2025-10-28T18:04:39.367789",
     "exception": false,
     "start_time": "2025-10-28T18:04:39.351837",
     "status": "completed"
    },
    "tags": []
   },
   "outputs": [],
   "source": [
    "df.drop(columns=['id', 'Unnamed: 32'], inplace= True)"
   ]
  },
  {
   "cell_type": "code",
   "execution_count": 4,
   "id": "591d978c",
   "metadata": {
    "execution": {
     "iopub.execute_input": "2025-10-28T18:04:39.377446Z",
     "iopub.status.busy": "2025-10-28T18:04:39.377082Z",
     "iopub.status.idle": "2025-10-28T18:04:39.398874Z",
     "shell.execute_reply": "2025-10-28T18:04:39.397960Z"
    },
    "papermill": {
     "duration": 0.028545,
     "end_time": "2025-10-28T18:04:39.400760",
     "exception": false,
     "start_time": "2025-10-28T18:04:39.372215",
     "status": "completed"
    },
    "tags": []
   },
   "outputs": [
    {
     "data": {
      "text/html": [
       "<div>\n",
       "<style scoped>\n",
       "    .dataframe tbody tr th:only-of-type {\n",
       "        vertical-align: middle;\n",
       "    }\n",
       "\n",
       "    .dataframe tbody tr th {\n",
       "        vertical-align: top;\n",
       "    }\n",
       "\n",
       "    .dataframe thead th {\n",
       "        text-align: right;\n",
       "    }\n",
       "</style>\n",
       "<table border=\"1\" class=\"dataframe\">\n",
       "  <thead>\n",
       "    <tr style=\"text-align: right;\">\n",
       "      <th></th>\n",
       "      <th>diagnosis</th>\n",
       "      <th>radius_mean</th>\n",
       "      <th>texture_mean</th>\n",
       "      <th>perimeter_mean</th>\n",
       "      <th>area_mean</th>\n",
       "      <th>smoothness_mean</th>\n",
       "      <th>compactness_mean</th>\n",
       "      <th>concavity_mean</th>\n",
       "      <th>concave points_mean</th>\n",
       "      <th>symmetry_mean</th>\n",
       "      <th>...</th>\n",
       "      <th>radius_worst</th>\n",
       "      <th>texture_worst</th>\n",
       "      <th>perimeter_worst</th>\n",
       "      <th>area_worst</th>\n",
       "      <th>smoothness_worst</th>\n",
       "      <th>compactness_worst</th>\n",
       "      <th>concavity_worst</th>\n",
       "      <th>concave points_worst</th>\n",
       "      <th>symmetry_worst</th>\n",
       "      <th>fractal_dimension_worst</th>\n",
       "    </tr>\n",
       "  </thead>\n",
       "  <tbody>\n",
       "    <tr>\n",
       "      <th>0</th>\n",
       "      <td>M</td>\n",
       "      <td>17.99</td>\n",
       "      <td>10.38</td>\n",
       "      <td>122.80</td>\n",
       "      <td>1001.0</td>\n",
       "      <td>0.11840</td>\n",
       "      <td>0.27760</td>\n",
       "      <td>0.3001</td>\n",
       "      <td>0.14710</td>\n",
       "      <td>0.2419</td>\n",
       "      <td>...</td>\n",
       "      <td>25.38</td>\n",
       "      <td>17.33</td>\n",
       "      <td>184.60</td>\n",
       "      <td>2019.0</td>\n",
       "      <td>0.1622</td>\n",
       "      <td>0.6656</td>\n",
       "      <td>0.7119</td>\n",
       "      <td>0.2654</td>\n",
       "      <td>0.4601</td>\n",
       "      <td>0.11890</td>\n",
       "    </tr>\n",
       "    <tr>\n",
       "      <th>1</th>\n",
       "      <td>M</td>\n",
       "      <td>20.57</td>\n",
       "      <td>17.77</td>\n",
       "      <td>132.90</td>\n",
       "      <td>1326.0</td>\n",
       "      <td>0.08474</td>\n",
       "      <td>0.07864</td>\n",
       "      <td>0.0869</td>\n",
       "      <td>0.07017</td>\n",
       "      <td>0.1812</td>\n",
       "      <td>...</td>\n",
       "      <td>24.99</td>\n",
       "      <td>23.41</td>\n",
       "      <td>158.80</td>\n",
       "      <td>1956.0</td>\n",
       "      <td>0.1238</td>\n",
       "      <td>0.1866</td>\n",
       "      <td>0.2416</td>\n",
       "      <td>0.1860</td>\n",
       "      <td>0.2750</td>\n",
       "      <td>0.08902</td>\n",
       "    </tr>\n",
       "    <tr>\n",
       "      <th>2</th>\n",
       "      <td>M</td>\n",
       "      <td>19.69</td>\n",
       "      <td>21.25</td>\n",
       "      <td>130.00</td>\n",
       "      <td>1203.0</td>\n",
       "      <td>0.10960</td>\n",
       "      <td>0.15990</td>\n",
       "      <td>0.1974</td>\n",
       "      <td>0.12790</td>\n",
       "      <td>0.2069</td>\n",
       "      <td>...</td>\n",
       "      <td>23.57</td>\n",
       "      <td>25.53</td>\n",
       "      <td>152.50</td>\n",
       "      <td>1709.0</td>\n",
       "      <td>0.1444</td>\n",
       "      <td>0.4245</td>\n",
       "      <td>0.4504</td>\n",
       "      <td>0.2430</td>\n",
       "      <td>0.3613</td>\n",
       "      <td>0.08758</td>\n",
       "    </tr>\n",
       "    <tr>\n",
       "      <th>3</th>\n",
       "      <td>M</td>\n",
       "      <td>11.42</td>\n",
       "      <td>20.38</td>\n",
       "      <td>77.58</td>\n",
       "      <td>386.1</td>\n",
       "      <td>0.14250</td>\n",
       "      <td>0.28390</td>\n",
       "      <td>0.2414</td>\n",
       "      <td>0.10520</td>\n",
       "      <td>0.2597</td>\n",
       "      <td>...</td>\n",
       "      <td>14.91</td>\n",
       "      <td>26.50</td>\n",
       "      <td>98.87</td>\n",
       "      <td>567.7</td>\n",
       "      <td>0.2098</td>\n",
       "      <td>0.8663</td>\n",
       "      <td>0.6869</td>\n",
       "      <td>0.2575</td>\n",
       "      <td>0.6638</td>\n",
       "      <td>0.17300</td>\n",
       "    </tr>\n",
       "    <tr>\n",
       "      <th>4</th>\n",
       "      <td>M</td>\n",
       "      <td>20.29</td>\n",
       "      <td>14.34</td>\n",
       "      <td>135.10</td>\n",
       "      <td>1297.0</td>\n",
       "      <td>0.10030</td>\n",
       "      <td>0.13280</td>\n",
       "      <td>0.1980</td>\n",
       "      <td>0.10430</td>\n",
       "      <td>0.1809</td>\n",
       "      <td>...</td>\n",
       "      <td>22.54</td>\n",
       "      <td>16.67</td>\n",
       "      <td>152.20</td>\n",
       "      <td>1575.0</td>\n",
       "      <td>0.1374</td>\n",
       "      <td>0.2050</td>\n",
       "      <td>0.4000</td>\n",
       "      <td>0.1625</td>\n",
       "      <td>0.2364</td>\n",
       "      <td>0.07678</td>\n",
       "    </tr>\n",
       "  </tbody>\n",
       "</table>\n",
       "<p>5 rows × 31 columns</p>\n",
       "</div>"
      ],
      "text/plain": [
       "  diagnosis  radius_mean  texture_mean  perimeter_mean  area_mean  \\\n",
       "0         M        17.99         10.38          122.80     1001.0   \n",
       "1         M        20.57         17.77          132.90     1326.0   \n",
       "2         M        19.69         21.25          130.00     1203.0   \n",
       "3         M        11.42         20.38           77.58      386.1   \n",
       "4         M        20.29         14.34          135.10     1297.0   \n",
       "\n",
       "   smoothness_mean  compactness_mean  concavity_mean  concave points_mean  \\\n",
       "0          0.11840           0.27760          0.3001              0.14710   \n",
       "1          0.08474           0.07864          0.0869              0.07017   \n",
       "2          0.10960           0.15990          0.1974              0.12790   \n",
       "3          0.14250           0.28390          0.2414              0.10520   \n",
       "4          0.10030           0.13280          0.1980              0.10430   \n",
       "\n",
       "   symmetry_mean  ...  radius_worst  texture_worst  perimeter_worst  \\\n",
       "0         0.2419  ...         25.38          17.33           184.60   \n",
       "1         0.1812  ...         24.99          23.41           158.80   \n",
       "2         0.2069  ...         23.57          25.53           152.50   \n",
       "3         0.2597  ...         14.91          26.50            98.87   \n",
       "4         0.1809  ...         22.54          16.67           152.20   \n",
       "\n",
       "   area_worst  smoothness_worst  compactness_worst  concavity_worst  \\\n",
       "0      2019.0            0.1622             0.6656           0.7119   \n",
       "1      1956.0            0.1238             0.1866           0.2416   \n",
       "2      1709.0            0.1444             0.4245           0.4504   \n",
       "3       567.7            0.2098             0.8663           0.6869   \n",
       "4      1575.0            0.1374             0.2050           0.4000   \n",
       "\n",
       "   concave points_worst  symmetry_worst  fractal_dimension_worst  \n",
       "0                0.2654          0.4601                  0.11890  \n",
       "1                0.1860          0.2750                  0.08902  \n",
       "2                0.2430          0.3613                  0.08758  \n",
       "3                0.2575          0.6638                  0.17300  \n",
       "4                0.1625          0.2364                  0.07678  \n",
       "\n",
       "[5 rows x 31 columns]"
      ]
     },
     "execution_count": 4,
     "metadata": {},
     "output_type": "execute_result"
    }
   ],
   "source": [
    "df.head()"
   ]
  },
  {
   "cell_type": "code",
   "execution_count": 5,
   "id": "c35a33a4",
   "metadata": {
    "execution": {
     "iopub.execute_input": "2025-10-28T18:04:39.411321Z",
     "iopub.status.busy": "2025-10-28T18:04:39.410963Z",
     "iopub.status.idle": "2025-10-28T18:04:39.418695Z",
     "shell.execute_reply": "2025-10-28T18:04:39.417767Z"
    },
    "papermill": {
     "duration": 0.01468,
     "end_time": "2025-10-28T18:04:39.420135",
     "exception": false,
     "start_time": "2025-10-28T18:04:39.405455",
     "status": "completed"
    },
    "tags": []
   },
   "outputs": [],
   "source": [
    "X_train, X_test, y_train, y_test = train_test_split(df.iloc[:, 1:], df.iloc[:, 0], test_size=0.2)"
   ]
  },
  {
   "cell_type": "code",
   "execution_count": 6,
   "id": "061ae780",
   "metadata": {
    "execution": {
     "iopub.execute_input": "2025-10-28T18:04:39.429922Z",
     "iopub.status.busy": "2025-10-28T18:04:39.429608Z",
     "iopub.status.idle": "2025-10-28T18:04:39.450720Z",
     "shell.execute_reply": "2025-10-28T18:04:39.449615Z"
    },
    "papermill": {
     "duration": 0.028106,
     "end_time": "2025-10-28T18:04:39.452625",
     "exception": false,
     "start_time": "2025-10-28T18:04:39.424519",
     "status": "completed"
    },
    "tags": []
   },
   "outputs": [],
   "source": [
    "scaler= StandardScaler()\n",
    "X_train= scaler.fit_transform(X_train)\n",
    "X_test= scaler.transform(X_test)"
   ]
  },
  {
   "cell_type": "code",
   "execution_count": 7,
   "id": "b7963b5a",
   "metadata": {
    "execution": {
     "iopub.execute_input": "2025-10-28T18:04:39.462517Z",
     "iopub.status.busy": "2025-10-28T18:04:39.462168Z",
     "iopub.status.idle": "2025-10-28T18:04:39.468689Z",
     "shell.execute_reply": "2025-10-28T18:04:39.467692Z"
    },
    "papermill": {
     "duration": 0.013198,
     "end_time": "2025-10-28T18:04:39.470265",
     "exception": false,
     "start_time": "2025-10-28T18:04:39.457067",
     "status": "completed"
    },
    "tags": []
   },
   "outputs": [
    {
     "data": {
      "text/plain": [
       "array([[-1.63425108,  0.32063267, -1.54938931, ..., -0.53106711,\n",
       "         0.67756537,  3.4515847 ],\n",
       "       [-0.17120156, -0.13254349, -0.17045709, ...,  0.4315882 ,\n",
       "         0.9887039 ,  0.12098158],\n",
       "       [ 1.56514036,  0.54838274,  1.54301853, ...,  1.67877737,\n",
       "         1.82528555, -0.28062626],\n",
       "       ...,\n",
       "       [-1.4045068 , -0.09768379, -1.27497494, ...,  0.00682087,\n",
       "         0.38071382,  1.13440965],\n",
       "       [ 0.54622589, -0.88551312,  0.57046171, ...,  1.26606018,\n",
       "         0.19657061,  0.36775266],\n",
       "       [-0.79650797,  0.12541832, -0.79596044, ..., -1.41328776,\n",
       "         0.62994213, -1.03115442]])"
      ]
     },
     "execution_count": 7,
     "metadata": {},
     "output_type": "execute_result"
    }
   ],
   "source": [
    "X_train"
   ]
  },
  {
   "cell_type": "code",
   "execution_count": 8,
   "id": "d2baa78e",
   "metadata": {
    "execution": {
     "iopub.execute_input": "2025-10-28T18:04:39.480455Z",
     "iopub.status.busy": "2025-10-28T18:04:39.480119Z",
     "iopub.status.idle": "2025-10-28T18:04:39.487064Z",
     "shell.execute_reply": "2025-10-28T18:04:39.486134Z"
    },
    "papermill": {
     "duration": 0.013626,
     "end_time": "2025-10-28T18:04:39.488533",
     "exception": false,
     "start_time": "2025-10-28T18:04:39.474907",
     "status": "completed"
    },
    "tags": []
   },
   "outputs": [
    {
     "data": {
      "text/plain": [
       "151    B\n",
       "526    B\n",
       "343    M\n",
       "502    B\n",
       "325    B\n",
       "      ..\n",
       "35     M\n",
       "549    B\n",
       "318    B\n",
       "330    M\n",
       "332    B\n",
       "Name: diagnosis, Length: 455, dtype: object"
      ]
     },
     "execution_count": 8,
     "metadata": {},
     "output_type": "execute_result"
    }
   ],
   "source": [
    "y_train"
   ]
  },
  {
   "cell_type": "code",
   "execution_count": 9,
   "id": "d9e3a381",
   "metadata": {
    "execution": {
     "iopub.execute_input": "2025-10-28T18:04:39.498493Z",
     "iopub.status.busy": "2025-10-28T18:04:39.498183Z",
     "iopub.status.idle": "2025-10-28T18:04:39.503161Z",
     "shell.execute_reply": "2025-10-28T18:04:39.502261Z"
    },
    "papermill": {
     "duration": 0.011422,
     "end_time": "2025-10-28T18:04:39.504501",
     "exception": false,
     "start_time": "2025-10-28T18:04:39.493079",
     "status": "completed"
    },
    "tags": []
   },
   "outputs": [],
   "source": [
    "encoder = LabelEncoder()\n",
    "y_train = encoder.fit_transform(y_train)\n",
    "y_test = encoder.transform(y_test)"
   ]
  },
  {
   "cell_type": "code",
   "execution_count": 10,
   "id": "51b27678",
   "metadata": {
    "execution": {
     "iopub.execute_input": "2025-10-28T18:04:39.514230Z",
     "iopub.status.busy": "2025-10-28T18:04:39.513943Z",
     "iopub.status.idle": "2025-10-28T18:04:39.520673Z",
     "shell.execute_reply": "2025-10-28T18:04:39.519442Z"
    },
    "papermill": {
     "duration": 0.01321,
     "end_time": "2025-10-28T18:04:39.522144",
     "exception": false,
     "start_time": "2025-10-28T18:04:39.508934",
     "status": "completed"
    },
    "tags": []
   },
   "outputs": [
    {
     "data": {
      "text/plain": [
       "array([0, 0, 1, 0, 0, 1, 0, 1, 0, 1, 0, 1, 0, 0, 0, 0, 0, 1, 1, 0, 0, 0,\n",
       "       0, 0, 0, 0, 1, 1, 0, 0, 0, 1, 0, 0, 0, 0, 0, 0, 0, 0, 0, 1, 0, 0,\n",
       "       0, 0, 1, 1, 0, 0, 0, 1, 0, 0, 0, 0, 1, 0, 0, 0, 0, 0, 1, 1, 0, 0,\n",
       "       1, 0, 0, 0, 1, 0, 1, 1, 0, 1, 1, 0, 0, 0, 1, 0, 1, 0, 0, 1, 0, 1,\n",
       "       1, 1, 1, 1, 0, 0, 0, 0, 1, 1, 0, 0, 1, 0, 1, 1, 0, 1, 0, 1, 0, 0,\n",
       "       1, 0, 1, 1, 1, 1, 0, 1, 1, 0, 0, 0, 0, 0, 1, 1, 0, 0, 1, 1, 1, 1,\n",
       "       0, 0, 0, 0, 0, 0, 1, 0, 1, 0, 0, 0, 1, 0, 0, 0, 0, 1, 0, 0, 0, 0,\n",
       "       1, 0, 0, 0, 1, 0, 0, 1, 1, 1, 1, 0, 1, 0, 1, 1, 0, 0, 0, 0, 0, 1,\n",
       "       0, 1, 0, 0, 0, 0, 0, 1, 0, 1, 0, 1, 0, 0, 1, 0, 0, 1, 1, 0, 0, 1,\n",
       "       1, 0, 1, 1, 0, 0, 0, 0, 1, 1, 0, 0, 0, 0, 0, 0, 0, 1, 0, 0, 1, 1,\n",
       "       0, 0, 0, 0, 1, 1, 0, 1, 0, 0, 1, 0, 0, 0, 1, 0, 1, 1, 0, 1, 0, 1,\n",
       "       0, 0, 0, 0, 1, 0, 0, 0, 1, 0, 0, 1, 1, 0, 1, 1, 0, 1, 0, 1, 0, 1,\n",
       "       0, 1, 1, 0, 1, 1, 0, 0, 0, 0, 1, 0, 1, 0, 0, 0, 0, 0, 1, 1, 0, 1,\n",
       "       0, 0, 1, 0, 1, 0, 0, 0, 0, 0, 1, 0, 0, 0, 0, 1, 0, 1, 0, 0, 0, 1,\n",
       "       1, 1, 0, 1, 1, 1, 0, 0, 0, 0, 0, 1, 1, 1, 0, 0, 1, 1, 0, 0, 1, 0,\n",
       "       0, 0, 0, 0, 0, 1, 1, 0, 0, 1, 1, 0, 1, 1, 1, 1, 1, 1, 0, 1, 0, 0,\n",
       "       0, 1, 1, 0, 1, 0, 0, 1, 0, 1, 1, 0, 1, 0, 0, 0, 0, 0, 0, 1, 0, 0,\n",
       "       0, 1, 1, 0, 0, 1, 0, 0, 0, 0, 0, 1, 0, 0, 0, 0, 1, 0, 1, 1, 0, 0,\n",
       "       0, 1, 0, 0, 1, 0, 1, 0, 0, 0, 0, 0, 0, 0, 0, 0, 1, 1, 1, 0, 0, 1,\n",
       "       1, 0, 1, 0, 1, 0, 0, 0, 0, 0, 0, 0, 0, 1, 0, 1, 0, 1, 0, 0, 0, 0,\n",
       "       0, 0, 0, 0, 1, 0, 0, 1, 0, 1, 1, 0, 0, 1, 0])"
      ]
     },
     "execution_count": 10,
     "metadata": {},
     "output_type": "execute_result"
    }
   ],
   "source": [
    "y_train"
   ]
  },
  {
   "cell_type": "code",
   "execution_count": 11,
   "id": "3bdf9ac0",
   "metadata": {
    "execution": {
     "iopub.execute_input": "2025-10-28T18:04:39.532758Z",
     "iopub.status.busy": "2025-10-28T18:04:39.532445Z",
     "iopub.status.idle": "2025-10-28T18:04:39.542838Z",
     "shell.execute_reply": "2025-10-28T18:04:39.542122Z"
    },
    "papermill": {
     "duration": 0.017276,
     "end_time": "2025-10-28T18:04:39.544142",
     "exception": false,
     "start_time": "2025-10-28T18:04:39.526866",
     "status": "completed"
    },
    "tags": []
   },
   "outputs": [],
   "source": [
    "X_train_tensor= torch.from_numpy(X_train)\n",
    "X_test_tensor= torch.from_numpy(X_test)\n",
    "y_train_tensor= torch.from_numpy(y_train)\n",
    "y_test_tensor= torch.from_numpy(y_test)"
   ]
  },
  {
   "cell_type": "code",
   "execution_count": 12,
   "id": "19a54de2",
   "metadata": {
    "execution": {
     "iopub.execute_input": "2025-10-28T18:04:39.554819Z",
     "iopub.status.busy": "2025-10-28T18:04:39.554279Z",
     "iopub.status.idle": "2025-10-28T18:04:39.560134Z",
     "shell.execute_reply": "2025-10-28T18:04:39.559001Z"
    },
    "papermill": {
     "duration": 0.012629,
     "end_time": "2025-10-28T18:04:39.561542",
     "exception": false,
     "start_time": "2025-10-28T18:04:39.548913",
     "status": "completed"
    },
    "tags": []
   },
   "outputs": [
    {
     "data": {
      "text/plain": [
       "torch.Size([455, 30])"
      ]
     },
     "execution_count": 12,
     "metadata": {},
     "output_type": "execute_result"
    }
   ],
   "source": [
    "X_train_tensor.shape"
   ]
  },
  {
   "cell_type": "code",
   "execution_count": 13,
   "id": "ff4909c2",
   "metadata": {
    "execution": {
     "iopub.execute_input": "2025-10-28T18:04:39.571964Z",
     "iopub.status.busy": "2025-10-28T18:04:39.571702Z",
     "iopub.status.idle": "2025-10-28T18:04:39.577234Z",
     "shell.execute_reply": "2025-10-28T18:04:39.576440Z"
    },
    "papermill": {
     "duration": 0.012339,
     "end_time": "2025-10-28T18:04:39.578677",
     "exception": false,
     "start_time": "2025-10-28T18:04:39.566338",
     "status": "completed"
    },
    "tags": []
   },
   "outputs": [
    {
     "data": {
      "text/plain": [
       "torch.Size([455])"
      ]
     },
     "execution_count": 13,
     "metadata": {},
     "output_type": "execute_result"
    }
   ],
   "source": [
    "y_train_tensor.shape"
   ]
  },
  {
   "cell_type": "markdown",
   "id": "af8180a3",
   "metadata": {
    "papermill": {
     "duration": 0.004561,
     "end_time": "2025-10-28T18:04:39.587847",
     "exception": false,
     "start_time": "2025-10-28T18:04:39.583286",
     "status": "completed"
    },
    "tags": []
   },
   "source": [
    "## Nueral Network"
   ]
  },
  {
   "cell_type": "code",
   "execution_count": 14,
   "id": "2cd5dccf",
   "metadata": {
    "execution": {
     "iopub.execute_input": "2025-10-28T18:04:39.598774Z",
     "iopub.status.busy": "2025-10-28T18:04:39.598066Z",
     "iopub.status.idle": "2025-10-28T18:04:39.604756Z",
     "shell.execute_reply": "2025-10-28T18:04:39.603805Z"
    },
    "papermill": {
     "duration": 0.013715,
     "end_time": "2025-10-28T18:04:39.606140",
     "exception": false,
     "start_time": "2025-10-28T18:04:39.592425",
     "status": "completed"
    },
    "tags": []
   },
   "outputs": [],
   "source": [
    "class NN():\n",
    "    def __init__(self,X):\n",
    "        self.weights= torch.rand(X.shape[1], 1, dtype=torch.float64, requires_grad=True)\n",
    "        self.bias= torch.zeros(1, dtype=torch.float64, requires_grad=True)\n",
    "    def forward(self, X):\n",
    "        z= torch.matmul(X, self.weights) + self.bias\n",
    "        y_pred= torch.sigmoid(z)\n",
    "        return y_pred\n",
    "    def loss_function(self, y_pred, y):\n",
    "        epsilon= 1e-7\n",
    "        y_pred= torch.clamp(y_pred, epsilon, 1-epsilon)\n",
    "        loss = -(y_train_tensor*torch.log(y_pred)+(1-y_train_tensor))\n",
    "        return loss"
   ]
  },
  {
   "cell_type": "code",
   "execution_count": 15,
   "id": "a910616c",
   "metadata": {
    "execution": {
     "iopub.execute_input": "2025-10-28T18:04:39.616592Z",
     "iopub.status.busy": "2025-10-28T18:04:39.616245Z",
     "iopub.status.idle": "2025-10-28T18:04:39.620435Z",
     "shell.execute_reply": "2025-10-28T18:04:39.619523Z"
    },
    "papermill": {
     "duration": 0.011132,
     "end_time": "2025-10-28T18:04:39.621976",
     "exception": false,
     "start_time": "2025-10-28T18:04:39.610844",
     "status": "completed"
    },
    "tags": []
   },
   "outputs": [],
   "source": [
    "lr= 0.1\n",
    "epochs= 25"
   ]
  },
  {
   "cell_type": "markdown",
   "id": "92985340",
   "metadata": {
    "papermill": {
     "duration": 0.004369,
     "end_time": "2025-10-28T18:04:39.631340",
     "exception": false,
     "start_time": "2025-10-28T18:04:39.626971",
     "status": "completed"
    },
    "tags": []
   },
   "source": [
    "## Pipeline"
   ]
  },
  {
   "cell_type": "code",
   "execution_count": 16,
   "id": "0e68d792",
   "metadata": {
    "execution": {
     "iopub.execute_input": "2025-10-28T18:04:39.641746Z",
     "iopub.status.busy": "2025-10-28T18:04:39.641446Z",
     "iopub.status.idle": "2025-10-28T18:04:39.814661Z",
     "shell.execute_reply": "2025-10-28T18:04:39.813450Z"
    },
    "papermill": {
     "duration": 0.18021,
     "end_time": "2025-10-28T18:04:39.816115",
     "exception": false,
     "start_time": "2025-10-28T18:04:39.635905",
     "status": "completed"
    },
    "tags": []
   },
   "outputs": [
    {
     "name": "stdout",
     "output_type": "stream",
     "text": [
      "Epoch: 1, Loss: 0.6035722764986187\n",
      "Epoch: 2, Loss: 0.5742404208145577\n",
      "Epoch: 3, Loss: 0.5451475954247593\n",
      "Epoch: 4, Loss: 0.5163038751723514\n",
      "Epoch: 5, Loss: 0.4877197468381738\n",
      "Epoch: 6, Loss: 0.459406199677698\n",
      "Epoch: 7, Loss: 0.4313748094470301\n",
      "Epoch: 8, Loss: 0.4036378052093426\n",
      "Epoch: 9, Loss: 0.37620810900167523\n",
      "Epoch: 10, Loss: 0.34909934088023736\n",
      "Epoch: 11, Loss: 0.3223257845116158\n",
      "Epoch: 12, Loss: 0.29590231016347784\n",
      "Epoch: 13, Loss: 0.2698442561132623\n",
      "Epoch: 14, Loss: 0.24416727109823091\n",
      "Epoch: 15, Loss: 0.21888712408310712\n",
      "Epoch: 16, Loss: 0.1940194911235779\n",
      "Epoch: 17, Loss: 0.16957973289137288\n",
      "Epoch: 18, Loss: 0.14558267914745254\n",
      "Epoch: 19, Loss: 0.12204243911049632\n",
      "Epoch: 20, Loss: 0.09897225381486716\n",
      "Epoch: 21, Loss: 0.07638440244972719\n",
      "Epoch: 22, Loss: 0.05429016716198289\n",
      "Epoch: 23, Loss: 0.032699851767560816\n",
      "Epoch: 24, Loss: 0.01162284260553903\n",
      "Epoch: 25, Loss: -0.008932305474161868\n"
     ]
    }
   ],
   "source": [
    "model= NN(X_train_tensor)\n",
    "for epoch in range(epochs):\n",
    "    y_pred= model.forward(X_train_tensor)\n",
    "    loss = model.loss_function(y_pred, y_train_tensor)\n",
    "    \n",
    "    if loss.dim() > 0:  # If loss has multiple elements\n",
    "        loss = loss.mean() \n",
    "    loss.backward()\n",
    "    with torch.no_grad():\n",
    "        model.weights -= lr*model.weights.grad\n",
    "        model.bias -= lr*model.bias.grad\n",
    "\n",
    "    model.weights.grad.zero_()\n",
    "    model.bias.grad.zero_()\n",
    "\n",
    "    print(f'Epoch: {epoch+1}, Loss: {loss.item()}')"
   ]
  },
  {
   "cell_type": "code",
   "execution_count": 17,
   "id": "0765a7d9",
   "metadata": {
    "execution": {
     "iopub.execute_input": "2025-10-28T18:04:39.829594Z",
     "iopub.status.busy": "2025-10-28T18:04:39.829288Z",
     "iopub.status.idle": "2025-10-28T18:04:39.850857Z",
     "shell.execute_reply": "2025-10-28T18:04:39.849891Z"
    },
    "papermill": {
     "duration": 0.030044,
     "end_time": "2025-10-28T18:04:39.852477",
     "exception": false,
     "start_time": "2025-10-28T18:04:39.822433",
     "status": "completed"
    },
    "tags": []
   },
   "outputs": [
    {
     "data": {
      "text/plain": [
       "tensor([0.5055], dtype=torch.float64, requires_grad=True)"
      ]
     },
     "execution_count": 17,
     "metadata": {},
     "output_type": "execute_result"
    }
   ],
   "source": [
    "model.bias"
   ]
  },
  {
   "cell_type": "markdown",
   "id": "edf409d7",
   "metadata": {
    "papermill": {
     "duration": 0.004427,
     "end_time": "2025-10-28T18:04:39.861823",
     "exception": false,
     "start_time": "2025-10-28T18:04:39.857396",
     "status": "completed"
    },
    "tags": []
   },
   "source": [
    "## Evaluation"
   ]
  },
  {
   "cell_type": "code",
   "execution_count": 18,
   "id": "104f4ccd",
   "metadata": {
    "execution": {
     "iopub.execute_input": "2025-10-28T18:04:39.872420Z",
     "iopub.status.busy": "2025-10-28T18:04:39.872095Z",
     "iopub.status.idle": "2025-10-28T18:04:39.879798Z",
     "shell.execute_reply": "2025-10-28T18:04:39.878775Z"
    },
    "papermill": {
     "duration": 0.014643,
     "end_time": "2025-10-28T18:04:39.881115",
     "exception": false,
     "start_time": "2025-10-28T18:04:39.866472",
     "status": "completed"
    },
    "tags": []
   },
   "outputs": [
    {
     "name": "stdout",
     "output_type": "stream",
     "text": [
      "Accuracy: 0.5560172200202942\n"
     ]
    }
   ],
   "source": [
    "with torch.no_grad():\n",
    "  y_pred = model.forward(X_test_tensor)\n",
    "  y_pred = (y_pred > 0.9).float()\n",
    "  accuracy = (y_pred == y_test_tensor).float().mean()\n",
    "  print(f'Accuracy: {accuracy.item()}')\n"
   ]
  },
  {
   "cell_type": "code",
   "execution_count": null,
   "id": "5f12dccb",
   "metadata": {
    "papermill": {
     "duration": 0.006445,
     "end_time": "2025-10-28T18:04:39.892740",
     "exception": false,
     "start_time": "2025-10-28T18:04:39.886295",
     "status": "completed"
    },
    "tags": []
   },
   "outputs": [],
   "source": []
  }
 ],
 "metadata": {
  "kaggle": {
   "accelerator": "none",
   "dataSources": [],
   "dockerImageVersionId": 31153,
   "isGpuEnabled": false,
   "isInternetEnabled": true,
   "language": "python",
   "sourceType": "notebook"
  },
  "kernelspec": {
   "display_name": "Python 3",
   "language": "python",
   "name": "python3"
  },
  "language_info": {
   "codemirror_mode": {
    "name": "ipython",
    "version": 3
   },
   "file_extension": ".py",
   "mimetype": "text/x-python",
   "name": "python",
   "nbconvert_exporter": "python",
   "pygments_lexer": "ipython3",
   "version": "3.11.13"
  },
  "papermill": {
   "default_parameters": {},
   "duration": 15.041103,
   "end_time": "2025-10-28T18:04:42.173064",
   "environment_variables": {},
   "exception": null,
   "input_path": "__notebook__.ipynb",
   "output_path": "__notebook__.ipynb",
   "parameters": {},
   "start_time": "2025-10-28T18:04:27.131961",
   "version": "2.6.0"
  }
 },
 "nbformat": 4,
 "nbformat_minor": 5
}
