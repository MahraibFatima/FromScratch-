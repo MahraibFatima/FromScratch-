{
 "cells": [
  {
   "cell_type": "markdown",
   "id": "f0be16d7",
   "metadata": {
    "papermill": {
     "duration": 0.009319,
     "end_time": "2025-02-07T18:21:26.299189",
     "exception": false,
     "start_time": "2025-02-07T18:21:26.289870",
     "status": "completed"
    },
    "tags": []
   },
   "source": [
    "# <p style=\"background-color:#F4A261;font-family:newtimeroman;color:#B43F3F;font-size:150%;text-align:center;border-radius:20px 60px;\">Linear Regression From Scratch </p>"
   ]
  },
  {
   "cell_type": "code",
   "execution_count": 1,
   "id": "b5e8796d",
   "metadata": {
    "execution": {
     "iopub.execute_input": "2025-02-07T18:21:26.316143Z",
     "iopub.status.busy": "2025-02-07T18:21:26.315647Z",
     "iopub.status.idle": "2025-02-07T18:21:26.323954Z",
     "shell.execute_reply": "2025-02-07T18:21:26.322989Z"
    },
    "papermill": {
     "duration": 0.018646,
     "end_time": "2025-02-07T18:21:26.325708",
     "exception": false,
     "start_time": "2025-02-07T18:21:26.307062",
     "status": "completed"
    },
    "tags": []
   },
   "outputs": [],
   "source": [
    "class LR_from_scratch:\n",
    "    def __init__(self):\n",
    "        self.m = None\n",
    "        self.b = None\n",
    "    def fit(self, X_train, y_train):\n",
    "        num= 0\n",
    "        den= 0\n",
    "        for i in range(X_train.shape[0]):\n",
    "            \n",
    "            num = num + ((X_train[i] - X_train.mean())*(y_train[i] - y_train.mean()))\n",
    "            den = den + ((X_train[i] - X_train.mean())*(X_train[i] - X_train.mean()))\n",
    "        \n",
    "        self.m = num/den\n",
    "        self.b = y_train.mean() - (self.m * X_train.mean())\n",
    "        print(self.m)\n",
    "        print(self.b)\n",
    "            \n",
    "    def predict(self, X_test):\n",
    "        print(X_test)\n",
    "        return self.m * X_test + self.b"
   ]
  },
  {
   "cell_type": "markdown",
   "id": "df4ecb2d",
   "metadata": {
    "papermill": {
     "duration": 0.007123,
     "end_time": "2025-02-07T18:21:26.340448",
     "exception": false,
     "start_time": "2025-02-07T18:21:26.333325",
     "status": "completed"
    },
    "tags": []
   },
   "source": [
    "# <p style=\"background-color:#F4A261;font-family:newtimeroman;color:#B43F3F;font-size:150%;text-align:center;border-radius:20px 60px;\">Loading Packages </p>"
   ]
  },
  {
   "cell_type": "code",
   "execution_count": 2,
   "id": "429fdf67",
   "metadata": {
    "_cell_guid": "b1076dfc-b9ad-4769-8c92-a6c4dae69d19",
    "_uuid": "8f2839f25d086af736a60e9eeb907d3b93b6e0e5",
    "execution": {
     "iopub.execute_input": "2025-02-07T18:21:26.356222Z",
     "iopub.status.busy": "2025-02-07T18:21:26.355808Z",
     "iopub.status.idle": "2025-02-07T18:21:29.338491Z",
     "shell.execute_reply": "2025-02-07T18:21:29.337037Z"
    },
    "papermill": {
     "duration": 2.992834,
     "end_time": "2025-02-07T18:21:29.340556",
     "exception": false,
     "start_time": "2025-02-07T18:21:26.347722",
     "status": "completed"
    },
    "tags": []
   },
   "outputs": [
    {
     "name": "stdout",
     "output_type": "stream",
     "text": [
      "/kaggle/input/salary-dataset-simple-linear-regression/Salary_dataset.csv\n"
     ]
    }
   ],
   "source": [
    "import numpy as np \n",
    "import pandas as pd \n",
    "import matplotlib.pyplot as plt\n",
    "import seaborn as sns\n",
    "from sklearn.metrics import confusion_matrix\n",
    "\n",
    "\n",
    "import os\n",
    "for dirname, _, filenames in os.walk('/kaggle/input'):\n",
    "    for filename in filenames:\n",
    "        print(os.path.join(dirname, filename))"
   ]
  },
  {
   "cell_type": "code",
   "execution_count": 3,
   "id": "4116fb4d",
   "metadata": {
    "execution": {
     "iopub.execute_input": "2025-02-07T18:21:29.358604Z",
     "iopub.status.busy": "2025-02-07T18:21:29.358015Z",
     "iopub.status.idle": "2025-02-07T18:21:29.380141Z",
     "shell.execute_reply": "2025-02-07T18:21:29.378917Z"
    },
    "papermill": {
     "duration": 0.033354,
     "end_time": "2025-02-07T18:21:29.382224",
     "exception": false,
     "start_time": "2025-02-07T18:21:29.348870",
     "status": "completed"
    },
    "tags": []
   },
   "outputs": [
    {
     "data": {
      "text/plain": [
       "(30, 3)"
      ]
     },
     "execution_count": 3,
     "metadata": {},
     "output_type": "execute_result"
    }
   ],
   "source": [
    "df= pd.read_csv('/kaggle/input/salary-dataset-simple-linear-regression/Salary_dataset.csv')\n",
    "df.shape"
   ]
  },
  {
   "cell_type": "markdown",
   "id": "89c3b282",
   "metadata": {
    "papermill": {
     "duration": 0.007605,
     "end_time": "2025-02-07T18:21:29.398870",
     "exception": false,
     "start_time": "2025-02-07T18:21:29.391265",
     "status": "completed"
    },
    "tags": []
   },
   "source": [
    "# <p style=\"background-color:#F4A261;font-family:newtimeroman;color:#B43F3F;font-size:150%;text-align:center;border-radius:20px 60px;\"> Exploratory Data Analysis </p>"
   ]
  },
  {
   "cell_type": "code",
   "execution_count": 4,
   "id": "86493d5b",
   "metadata": {
    "execution": {
     "iopub.execute_input": "2025-02-07T18:21:29.415282Z",
     "iopub.status.busy": "2025-02-07T18:21:29.414874Z",
     "iopub.status.idle": "2025-02-07T18:21:29.437504Z",
     "shell.execute_reply": "2025-02-07T18:21:29.436293Z"
    },
    "papermill": {
     "duration": 0.032927,
     "end_time": "2025-02-07T18:21:29.439431",
     "exception": false,
     "start_time": "2025-02-07T18:21:29.406504",
     "status": "completed"
    },
    "tags": []
   },
   "outputs": [
    {
     "data": {
      "text/html": [
       "<div>\n",
       "<style scoped>\n",
       "    .dataframe tbody tr th:only-of-type {\n",
       "        vertical-align: middle;\n",
       "    }\n",
       "\n",
       "    .dataframe tbody tr th {\n",
       "        vertical-align: top;\n",
       "    }\n",
       "\n",
       "    .dataframe thead th {\n",
       "        text-align: right;\n",
       "    }\n",
       "</style>\n",
       "<table border=\"1\" class=\"dataframe\">\n",
       "  <thead>\n",
       "    <tr style=\"text-align: right;\">\n",
       "      <th></th>\n",
       "      <th>Unnamed: 0</th>\n",
       "      <th>YearsExperience</th>\n",
       "      <th>Salary</th>\n",
       "    </tr>\n",
       "  </thead>\n",
       "  <tbody>\n",
       "    <tr>\n",
       "      <th>0</th>\n",
       "      <td>0</td>\n",
       "      <td>1.2</td>\n",
       "      <td>39344.0</td>\n",
       "    </tr>\n",
       "    <tr>\n",
       "      <th>1</th>\n",
       "      <td>1</td>\n",
       "      <td>1.4</td>\n",
       "      <td>46206.0</td>\n",
       "    </tr>\n",
       "    <tr>\n",
       "      <th>2</th>\n",
       "      <td>2</td>\n",
       "      <td>1.6</td>\n",
       "      <td>37732.0</td>\n",
       "    </tr>\n",
       "    <tr>\n",
       "      <th>3</th>\n",
       "      <td>3</td>\n",
       "      <td>2.1</td>\n",
       "      <td>43526.0</td>\n",
       "    </tr>\n",
       "    <tr>\n",
       "      <th>4</th>\n",
       "      <td>4</td>\n",
       "      <td>2.3</td>\n",
       "      <td>39892.0</td>\n",
       "    </tr>\n",
       "  </tbody>\n",
       "</table>\n",
       "</div>"
      ],
      "text/plain": [
       "   Unnamed: 0  YearsExperience   Salary\n",
       "0           0              1.2  39344.0\n",
       "1           1              1.4  46206.0\n",
       "2           2              1.6  37732.0\n",
       "3           3              2.1  43526.0\n",
       "4           4              2.3  39892.0"
      ]
     },
     "execution_count": 4,
     "metadata": {},
     "output_type": "execute_result"
    }
   ],
   "source": [
    "df.head()"
   ]
  },
  {
   "cell_type": "code",
   "execution_count": 5,
   "id": "ffe32dce",
   "metadata": {
    "execution": {
     "iopub.execute_input": "2025-02-07T18:21:29.456512Z",
     "iopub.status.busy": "2025-02-07T18:21:29.456051Z",
     "iopub.status.idle": "2025-02-07T18:21:29.467504Z",
     "shell.execute_reply": "2025-02-07T18:21:29.466498Z"
    },
    "papermill": {
     "duration": 0.021855,
     "end_time": "2025-02-07T18:21:29.469261",
     "exception": false,
     "start_time": "2025-02-07T18:21:29.447406",
     "status": "completed"
    },
    "tags": []
   },
   "outputs": [],
   "source": [
    "df = df.drop(columns=['Unnamed: 0'])"
   ]
  },
  {
   "cell_type": "code",
   "execution_count": 6,
   "id": "891b745b",
   "metadata": {
    "execution": {
     "iopub.execute_input": "2025-02-07T18:21:29.486517Z",
     "iopub.status.busy": "2025-02-07T18:21:29.486055Z",
     "iopub.status.idle": "2025-02-07T18:21:29.498148Z",
     "shell.execute_reply": "2025-02-07T18:21:29.496818Z"
    },
    "papermill": {
     "duration": 0.022686,
     "end_time": "2025-02-07T18:21:29.499929",
     "exception": false,
     "start_time": "2025-02-07T18:21:29.477243",
     "status": "completed"
    },
    "tags": []
   },
   "outputs": [
    {
     "data": {
      "text/html": [
       "<div>\n",
       "<style scoped>\n",
       "    .dataframe tbody tr th:only-of-type {\n",
       "        vertical-align: middle;\n",
       "    }\n",
       "\n",
       "    .dataframe tbody tr th {\n",
       "        vertical-align: top;\n",
       "    }\n",
       "\n",
       "    .dataframe thead th {\n",
       "        text-align: right;\n",
       "    }\n",
       "</style>\n",
       "<table border=\"1\" class=\"dataframe\">\n",
       "  <thead>\n",
       "    <tr style=\"text-align: right;\">\n",
       "      <th></th>\n",
       "      <th>YearsExperience</th>\n",
       "      <th>Salary</th>\n",
       "    </tr>\n",
       "  </thead>\n",
       "  <tbody>\n",
       "    <tr>\n",
       "      <th>0</th>\n",
       "      <td>1.2</td>\n",
       "      <td>39344.0</td>\n",
       "    </tr>\n",
       "    <tr>\n",
       "      <th>27</th>\n",
       "      <td>9.7</td>\n",
       "      <td>112636.0</td>\n",
       "    </tr>\n",
       "    <tr>\n",
       "      <th>12</th>\n",
       "      <td>4.1</td>\n",
       "      <td>56958.0</td>\n",
       "    </tr>\n",
       "  </tbody>\n",
       "</table>\n",
       "</div>"
      ],
      "text/plain": [
       "    YearsExperience    Salary\n",
       "0               1.2   39344.0\n",
       "27              9.7  112636.0\n",
       "12              4.1   56958.0"
      ]
     },
     "execution_count": 6,
     "metadata": {},
     "output_type": "execute_result"
    }
   ],
   "source": [
    "df.sample(3)"
   ]
  },
  {
   "cell_type": "code",
   "execution_count": 7,
   "id": "6fdd06e5",
   "metadata": {
    "execution": {
     "iopub.execute_input": "2025-02-07T18:21:29.516896Z",
     "iopub.status.busy": "2025-02-07T18:21:29.516488Z",
     "iopub.status.idle": "2025-02-07T18:21:29.535736Z",
     "shell.execute_reply": "2025-02-07T18:21:29.534493Z"
    },
    "papermill": {
     "duration": 0.029703,
     "end_time": "2025-02-07T18:21:29.537525",
     "exception": false,
     "start_time": "2025-02-07T18:21:29.507822",
     "status": "completed"
    },
    "tags": []
   },
   "outputs": [
    {
     "name": "stdout",
     "output_type": "stream",
     "text": [
      "<class 'pandas.core.frame.DataFrame'>\n",
      "RangeIndex: 30 entries, 0 to 29\n",
      "Data columns (total 2 columns):\n",
      " #   Column           Non-Null Count  Dtype  \n",
      "---  ------           --------------  -----  \n",
      " 0   YearsExperience  30 non-null     float64\n",
      " 1   Salary           30 non-null     float64\n",
      "dtypes: float64(2)\n",
      "memory usage: 608.0 bytes\n"
     ]
    }
   ],
   "source": [
    "df.info()"
   ]
  },
  {
   "cell_type": "code",
   "execution_count": 8,
   "id": "b9f6d7c4",
   "metadata": {
    "execution": {
     "iopub.execute_input": "2025-02-07T18:21:29.554705Z",
     "iopub.status.busy": "2025-02-07T18:21:29.554284Z",
     "iopub.status.idle": "2025-02-07T18:21:29.842720Z",
     "shell.execute_reply": "2025-02-07T18:21:29.841453Z"
    },
    "papermill": {
     "duration": 0.298947,
     "end_time": "2025-02-07T18:21:29.844550",
     "exception": false,
     "start_time": "2025-02-07T18:21:29.545603",
     "status": "completed"
    },
    "tags": []
   },
   "outputs": [
    {
     "data": {
      "text/plain": [
       "Text(0, 0.5, 'Salary (in Rupees)')"
      ]
     },
     "execution_count": 8,
     "metadata": {},
     "output_type": "execute_result"
    },
    {
     "data": {
      "image/png": "[encoded data removed]",
      "text/plain": [
       "<Figure size 640x480 with 1 Axes>"
      ]
     },
     "metadata": {},
     "output_type": "display_data"
    }
   ],
   "source": [
    "plt.scatter(df['YearsExperience'],df['Salary'])\n",
    "plt.xlabel('Years of Experience')\n",
    "plt.ylabel('Salary (in Rupees)')"
   ]
  },
  {
   "cell_type": "code",
   "execution_count": 9,
   "id": "9e2b5012",
   "metadata": {
    "execution": {
     "iopub.execute_input": "2025-02-07T18:21:29.862826Z",
     "iopub.status.busy": "2025-02-07T18:21:29.862475Z",
     "iopub.status.idle": "2025-02-07T18:21:30.197888Z",
     "shell.execute_reply": "2025-02-07T18:21:30.196856Z"
    },
    "papermill": {
     "duration": 0.346872,
     "end_time": "2025-02-07T18:21:30.199989",
     "exception": false,
     "start_time": "2025-02-07T18:21:29.853117",
     "status": "completed"
    },
    "tags": []
   },
   "outputs": [
    {
     "data": {
      "text/plain": [
       "<Axes: ylabel='count'>"
      ]
     },
     "execution_count": 9,
     "metadata": {},
     "output_type": "execute_result"
    },
    {
     "data": {
      "image/png": "[encoded data removed]",
      "text/plain": [
       "<Figure size 640x480 with 1 Axes>"
      ]
     },
     "metadata": {},
     "output_type": "display_data"
    }
   ],
   "source": [
    "#print(df[\"YearsExperience\"].value_counts())\n",
    "\n",
    "df[\"YearsExperience\"].round(2).value_counts().plot(kind=\"pie\")\n"
   ]
  },
  {
   "cell_type": "code",
   "execution_count": 10,
   "id": "230b18fa",
   "metadata": {
    "execution": {
     "iopub.execute_input": "2025-02-07T18:21:30.220638Z",
     "iopub.status.busy": "2025-02-07T18:21:30.220242Z",
     "iopub.status.idle": "2025-02-07T18:21:30.483730Z",
     "shell.execute_reply": "2025-02-07T18:21:30.482498Z"
    },
    "papermill": {
     "duration": 0.275809,
     "end_time": "2025-02-07T18:21:30.485531",
     "exception": false,
     "start_time": "2025-02-07T18:21:30.209722",
     "status": "completed"
    },
    "tags": []
   },
   "outputs": [
    {
     "data": {
      "text/plain": [
       "<Axes: >"
      ]
     },
     "execution_count": 10,
     "metadata": {},
     "output_type": "execute_result"
    },
    {
     "data": {
      "image/png": "[encoded data removed]",
      "text/plain": [
       "<Figure size 800x600 with 2 Axes>"
      ]
     },
     "metadata": {},
     "output_type": "display_data"
    }
   ],
   "source": [
    "plt.figure(figsize = (8,6))\n",
    "sns.heatmap(df.corr(),annot = True , fmt='.1f', cmap=['#F4A261','#E76F51'])"
   ]
  },
  {
   "cell_type": "markdown",
   "id": "9f9194af",
   "metadata": {
    "papermill": {
     "duration": 0.009994,
     "end_time": "2025-02-07T18:21:30.505867",
     "exception": false,
     "start_time": "2025-02-07T18:21:30.495873",
     "status": "completed"
    },
    "tags": []
   },
   "source": [
    "# <p style=\"background-color:#F4A261;font-family:newtimeroman;color:#B43F3F;font-size:150%;text-align:center;border-radius:20px 60px;\">Train Test Split </p>"
   ]
  },
  {
   "cell_type": "code",
   "execution_count": 11,
   "id": "40762c24",
   "metadata": {
    "execution": {
     "iopub.execute_input": "2025-02-07T18:21:30.527583Z",
     "iopub.status.busy": "2025-02-07T18:21:30.527176Z",
     "iopub.status.idle": "2025-02-07T18:21:30.532030Z",
     "shell.execute_reply": "2025-02-07T18:21:30.530917Z"
    },
    "papermill": {
     "duration": 0.01769,
     "end_time": "2025-02-07T18:21:30.533719",
     "exception": false,
     "start_time": "2025-02-07T18:21:30.516029",
     "status": "completed"
    },
    "tags": []
   },
   "outputs": [],
   "source": [
    "X = df.iloc[:,0].values\n",
    "y = df.iloc[:,1].values"
   ]
  },
  {
   "cell_type": "code",
   "execution_count": 12,
   "id": "43e48ff4",
   "metadata": {
    "execution": {
     "iopub.execute_input": "2025-02-07T18:21:30.555532Z",
     "iopub.status.busy": "2025-02-07T18:21:30.555113Z",
     "iopub.status.idle": "2025-02-07T18:21:30.561331Z",
     "shell.execute_reply": "2025-02-07T18:21:30.560279Z"
    },
    "papermill": {
     "duration": 0.01905,
     "end_time": "2025-02-07T18:21:30.563043",
     "exception": false,
     "start_time": "2025-02-07T18:21:30.543993",
     "status": "completed"
    },
    "tags": []
   },
   "outputs": [
    {
     "data": {
      "text/plain": [
       "array([ 1.2,  1.4,  1.6,  2.1,  2.3,  3. ,  3.1,  3.3,  3.3,  3.8,  4. ,\n",
       "        4.1,  4.1,  4.2,  4.6,  5. ,  5.2,  5.4,  6. ,  6.1,  6.9,  7.2,\n",
       "        8. ,  8.3,  8.8,  9.1,  9.6,  9.7, 10.4, 10.6])"
      ]
     },
     "execution_count": 12,
     "metadata": {},
     "output_type": "execute_result"
    }
   ],
   "source": [
    "X"
   ]
  },
  {
   "cell_type": "code",
   "execution_count": 13,
   "id": "899e25fc",
   "metadata": {
    "execution": {
     "iopub.execute_input": "2025-02-07T18:21:30.585390Z",
     "iopub.status.busy": "2025-02-07T18:21:30.584948Z",
     "iopub.status.idle": "2025-02-07T18:21:30.592505Z",
     "shell.execute_reply": "2025-02-07T18:21:30.591404Z"
    },
    "papermill": {
     "duration": 0.020917,
     "end_time": "2025-02-07T18:21:30.594530",
     "exception": false,
     "start_time": "2025-02-07T18:21:30.573613",
     "status": "completed"
    },
    "tags": []
   },
   "outputs": [
    {
     "data": {
      "text/plain": [
       "array([ 39344.,  46206.,  37732.,  43526.,  39892.,  56643.,  60151.,\n",
       "        54446.,  64446.,  57190.,  63219.,  55795.,  56958.,  57082.,\n",
       "        61112.,  67939.,  66030.,  83089.,  81364.,  93941.,  91739.,\n",
       "        98274., 101303., 113813., 109432., 105583., 116970., 112636.,\n",
       "       122392., 121873.])"
      ]
     },
     "execution_count": 13,
     "metadata": {},
     "output_type": "execute_result"
    }
   ],
   "source": [
    "y"
   ]
  },
  {
   "cell_type": "code",
   "execution_count": 14,
   "id": "c80db15a",
   "metadata": {
    "execution": {
     "iopub.execute_input": "2025-02-07T18:21:30.623188Z",
     "iopub.status.busy": "2025-02-07T18:21:30.622802Z",
     "iopub.status.idle": "2025-02-07T18:21:30.644537Z",
     "shell.execute_reply": "2025-02-07T18:21:30.643404Z"
    },
    "papermill": {
     "duration": 0.039075,
     "end_time": "2025-02-07T18:21:30.647102",
     "exception": false,
     "start_time": "2025-02-07T18:21:30.608027",
     "status": "completed"
    },
    "tags": []
   },
   "outputs": [],
   "source": [
    "from sklearn.model_selection import train_test_split\n",
    "X_train,X_test,y_train,y_test = train_test_split(X,y,test_size=0.2,random_state=2)"
   ]
  },
  {
   "cell_type": "code",
   "execution_count": 15,
   "id": "c50158ce",
   "metadata": {
    "execution": {
     "iopub.execute_input": "2025-02-07T18:21:30.673522Z",
     "iopub.status.busy": "2025-02-07T18:21:30.673110Z",
     "iopub.status.idle": "2025-02-07T18:21:30.678860Z",
     "shell.execute_reply": "2025-02-07T18:21:30.677736Z"
    },
    "papermill": {
     "duration": 0.018895,
     "end_time": "2025-02-07T18:21:30.680468",
     "exception": false,
     "start_time": "2025-02-07T18:21:30.661573",
     "status": "completed"
    },
    "tags": []
   },
   "outputs": [
    {
     "data": {
      "text/plain": [
       "(24,)"
      ]
     },
     "execution_count": 15,
     "metadata": {},
     "output_type": "execute_result"
    }
   ],
   "source": [
    "X_train.shape"
   ]
  },
  {
   "cell_type": "markdown",
   "id": "ecb3b559",
   "metadata": {
    "papermill": {
     "duration": 0.013825,
     "end_time": "2025-02-07T18:21:30.705056",
     "exception": false,
     "start_time": "2025-02-07T18:21:30.691231",
     "status": "completed"
    },
    "tags": []
   },
   "source": [
    "# <p style=\"background-color:#F4A261;font-family:newtimeroman;color:#B43F3F;font-size:150%;text-align:center;border-radius:20px 60px;\">Using Linear Regression from scratch</p>\n"
   ]
  },
  {
   "cell_type": "code",
   "execution_count": 16,
   "id": "289b75b5",
   "metadata": {
    "execution": {
     "iopub.execute_input": "2025-02-07T18:21:30.738165Z",
     "iopub.status.busy": "2025-02-07T18:21:30.737542Z",
     "iopub.status.idle": "2025-02-07T18:21:30.742807Z",
     "shell.execute_reply": "2025-02-07T18:21:30.741401Z"
    },
    "papermill": {
     "duration": 0.023133,
     "end_time": "2025-02-07T18:21:30.744831",
     "exception": false,
     "start_time": "2025-02-07T18:21:30.721698",
     "status": "completed"
    },
    "tags": []
   },
   "outputs": [],
   "source": [
    "lr = LR_from_scratch()"
   ]
  },
  {
   "cell_type": "code",
   "execution_count": 17,
   "id": "fa183e7c",
   "metadata": {
    "execution": {
     "iopub.execute_input": "2025-02-07T18:21:30.769602Z",
     "iopub.status.busy": "2025-02-07T18:21:30.769211Z",
     "iopub.status.idle": "2025-02-07T18:21:30.775851Z",
     "shell.execute_reply": "2025-02-07T18:21:30.774539Z"
    },
    "papermill": {
     "duration": 0.021494,
     "end_time": "2025-02-07T18:21:30.778769",
     "exception": false,
     "start_time": "2025-02-07T18:21:30.757275",
     "status": "completed"
    },
    "tags": []
   },
   "outputs": [
    {
     "name": "stdout",
     "output_type": "stream",
     "text": [
      "9569.586885432866\n",
      "23437.21046340505\n"
     ]
    }
   ],
   "source": [
    "lr.fit(X_train,y_train)"
   ]
  },
  {
   "cell_type": "code",
   "execution_count": 18,
   "id": "3988ba85",
   "metadata": {
    "execution": {
     "iopub.execute_input": "2025-02-07T18:21:30.806382Z",
     "iopub.status.busy": "2025-02-07T18:21:30.805928Z",
     "iopub.status.idle": "2025-02-07T18:21:30.812012Z",
     "shell.execute_reply": "2025-02-07T18:21:30.810869Z"
    },
    "papermill": {
     "duration": 0.020265,
     "end_time": "2025-02-07T18:21:30.813825",
     "exception": false,
     "start_time": "2025-02-07T18:21:30.793560",
     "status": "completed"
    },
    "tags": []
   },
   "outputs": [
    {
     "data": {
      "text/plain": [
       "24"
      ]
     },
     "execution_count": 18,
     "metadata": {},
     "output_type": "execute_result"
    }
   ],
   "source": [
    "X_train.shape[0]"
   ]
  },
  {
   "cell_type": "code",
   "execution_count": 19,
   "id": "d7082fbe",
   "metadata": {
    "execution": {
     "iopub.execute_input": "2025-02-07T18:21:30.837324Z",
     "iopub.status.busy": "2025-02-07T18:21:30.836953Z",
     "iopub.status.idle": "2025-02-07T18:21:30.842874Z",
     "shell.execute_reply": "2025-02-07T18:21:30.841622Z"
    },
    "papermill": {
     "duration": 0.019927,
     "end_time": "2025-02-07T18:21:30.844747",
     "exception": false,
     "start_time": "2025-02-07T18:21:30.824820",
     "status": "completed"
    },
    "tags": []
   },
   "outputs": [
    {
     "data": {
      "text/plain": [
       "8.299999999999999"
      ]
     },
     "execution_count": 19,
     "metadata": {},
     "output_type": "execute_result"
    }
   ],
   "source": [
    "X_train[0]"
   ]
  },
  {
   "cell_type": "code",
   "execution_count": 20,
   "id": "b8610ca1",
   "metadata": {
    "execution": {
     "iopub.execute_input": "2025-02-07T18:21:30.868116Z",
     "iopub.status.busy": "2025-02-07T18:21:30.867739Z",
     "iopub.status.idle": "2025-02-07T18:21:30.873431Z",
     "shell.execute_reply": "2025-02-07T18:21:30.872420Z"
    },
    "papermill": {
     "duration": 0.019133,
     "end_time": "2025-02-07T18:21:30.875100",
     "exception": false,
     "start_time": "2025-02-07T18:21:30.855967",
     "status": "completed"
    },
    "tags": []
   },
   "outputs": [
    {
     "data": {
      "text/plain": [
       "5.754166666666666"
      ]
     },
     "execution_count": 20,
     "metadata": {},
     "output_type": "execute_result"
    }
   ],
   "source": [
    "X_train.mean()"
   ]
  },
  {
   "cell_type": "code",
   "execution_count": 21,
   "id": "aa971fcf",
   "metadata": {
    "execution": {
     "iopub.execute_input": "2025-02-07T18:21:30.898673Z",
     "iopub.status.busy": "2025-02-07T18:21:30.898149Z",
     "iopub.status.idle": "2025-02-07T18:21:30.904987Z",
     "shell.execute_reply": "2025-02-07T18:21:30.903679Z"
    },
    "papermill": {
     "duration": 0.021183,
     "end_time": "2025-02-07T18:21:30.907309",
     "exception": false,
     "start_time": "2025-02-07T18:21:30.886126",
     "status": "completed"
    },
    "tags": []
   },
   "outputs": [
    {
     "data": {
      "text/plain": [
       "1.4"
      ]
     },
     "execution_count": 21,
     "metadata": {},
     "output_type": "execute_result"
    }
   ],
   "source": [
    "X_test[0]"
   ]
  },
  {
   "cell_type": "code",
   "execution_count": 22,
   "id": "f24c7cfd",
   "metadata": {
    "execution": {
     "iopub.execute_input": "2025-02-07T18:21:30.937573Z",
     "iopub.status.busy": "2025-02-07T18:21:30.937167Z",
     "iopub.status.idle": "2025-02-07T18:21:30.942949Z",
     "shell.execute_reply": "2025-02-07T18:21:30.941730Z"
    },
    "papermill": {
     "duration": 0.022916,
     "end_time": "2025-02-07T18:21:30.945348",
     "exception": false,
     "start_time": "2025-02-07T18:21:30.922432",
     "status": "completed"
    },
    "tags": []
   },
   "outputs": [
    {
     "name": "stdout",
     "output_type": "stream",
     "text": [
      "1.4\n",
      "36834.632103011056\n"
     ]
    }
   ],
   "source": [
    "print(lr.predict(X_test[0]))"
   ]
  },
  {
   "cell_type": "code",
   "execution_count": 23,
   "id": "69404ee2",
   "metadata": {
    "execution": {
     "iopub.execute_input": "2025-02-07T18:21:30.970222Z",
     "iopub.status.busy": "2025-02-07T18:21:30.969871Z",
     "iopub.status.idle": "2025-02-07T18:21:31.418479Z",
     "shell.execute_reply": "2025-02-07T18:21:31.417343Z"
    },
    "papermill": {
     "duration": 0.462491,
     "end_time": "2025-02-07T18:21:31.420305",
     "exception": false,
     "start_time": "2025-02-07T18:21:30.957814",
     "status": "completed"
    },
    "tags": []
   },
   "outputs": [
    {
     "name": "stdout",
     "output_type": "stream",
     "text": [
      "[1.4 1.2 4.6 3.8 7.2 6.1]\n"
     ]
    },
    {
     "data": {
      "image/png": "[encoded data removed]",
      "text/plain": [
       "<Figure size 800x600 with 2 Axes>"
      ]
     },
     "metadata": {},
     "output_type": "display_data"
    }
   ],
   "source": [
    "threshold = 0.5\n",
    "y_pred = lr.predict(X_test)\n",
    "y_pred_class = (y_pred > threshold).astype(int)\n",
    "cm = confusion_matrix(y_test, y_pred_class)\n",
    "\n",
    "\n",
    "plt.figure(figsize=(8, 6))\n",
    "sns.heatmap(cm, annot=True, fmt='d', cmap=['#F4A261','#E76F51'])\n",
    "plt.xlabel('Predicted')\n",
    "plt.ylabel('Actual')\n",
    "plt.title('Confusion Matrix')\n",
    "plt.show()"
   ]
  },
  {
   "cell_type": "markdown",
   "id": "aa687efb",
   "metadata": {
    "papermill": {
     "duration": 0.011467,
     "end_time": "2025-02-07T18:21:31.443855",
     "exception": false,
     "start_time": "2025-02-07T18:21:31.432388",
     "status": "completed"
    },
    "tags": []
   },
   "source": [
    "# <p style=\"background-color:#F4A261;font-family:newtimeroman;color:#B43F3F;font-size:150%;text-align:center;border-radius:20px 60px;\">Linear Regression using sklearn </p>"
   ]
  },
  {
   "cell_type": "code",
   "execution_count": 24,
   "id": "a0e436c0",
   "metadata": {
    "execution": {
     "iopub.execute_input": "2025-02-07T18:21:31.468959Z",
     "iopub.status.busy": "2025-02-07T18:21:31.468578Z",
     "iopub.status.idle": "2025-02-07T18:21:31.573469Z",
     "shell.execute_reply": "2025-02-07T18:21:31.572326Z"
    },
    "papermill": {
     "duration": 0.119683,
     "end_time": "2025-02-07T18:21:31.575373",
     "exception": false,
     "start_time": "2025-02-07T18:21:31.455690",
     "status": "completed"
    },
    "tags": []
   },
   "outputs": [],
   "source": [
    "from sklearn.linear_model import LinearRegression"
   ]
  },
  {
   "cell_type": "code",
   "execution_count": 25,
   "id": "3c5ef70c",
   "metadata": {
    "execution": {
     "iopub.execute_input": "2025-02-07T18:21:31.600157Z",
     "iopub.status.busy": "2025-02-07T18:21:31.599704Z",
     "iopub.status.idle": "2025-02-07T18:21:31.604027Z",
     "shell.execute_reply": "2025-02-07T18:21:31.602921Z"
    },
    "papermill": {
     "duration": 0.018975,
     "end_time": "2025-02-07T18:21:31.606156",
     "exception": false,
     "start_time": "2025-02-07T18:21:31.587181",
     "status": "completed"
    },
    "tags": []
   },
   "outputs": [],
   "source": [
    "lr = LinearRegression()\n"
   ]
  },
  {
   "cell_type": "code",
   "execution_count": 26,
   "id": "77b72756",
   "metadata": {
    "execution": {
     "iopub.execute_input": "2025-02-07T18:21:31.632319Z",
     "iopub.status.busy": "2025-02-07T18:21:31.631972Z",
     "iopub.status.idle": "2025-02-07T18:21:31.636341Z",
     "shell.execute_reply": "2025-02-07T18:21:31.635197Z"
    },
    "papermill": {
     "duration": 0.020546,
     "end_time": "2025-02-07T18:21:31.638588",
     "exception": false,
     "start_time": "2025-02-07T18:21:31.618042",
     "status": "completed"
    },
    "tags": []
   },
   "outputs": [],
   "source": [
    "X_train = np.array(X_train).reshape(-1, 1)"
   ]
  },
  {
   "cell_type": "code",
   "execution_count": 27,
   "id": "49cc62f4",
   "metadata": {
    "execution": {
     "iopub.execute_input": "2025-02-07T18:21:31.664506Z",
     "iopub.status.busy": "2025-02-07T18:21:31.664063Z",
     "iopub.status.idle": "2025-02-07T18:21:31.696519Z",
     "shell.execute_reply": "2025-02-07T18:21:31.695477Z"
    },
    "papermill": {
     "duration": 0.047734,
     "end_time": "2025-02-07T18:21:31.698267",
     "exception": false,
     "start_time": "2025-02-07T18:21:31.650533",
     "status": "completed"
    },
    "tags": []
   },
   "outputs": [
    {
     "data": {
      "text/html": [
       "<style>#sk-container-id-1 {color: black;background-color: white;}#sk-container-id-1 pre{padding: 0;}#sk-container-id-1 div.sk-toggleable {background-color: white;}#sk-container-id-1 label.sk-toggleable__label {cursor: pointer;display: block;width: 100%;margin-bottom: 0;padding: 0.3em;box-sizing: border-box;text-align: center;}#sk-container-id-1 label.sk-toggleable__label-arrow:before {content: \"▸\";float: left;margin-right: 0.25em;color: #696969;}#sk-container-id-1 label.sk-toggleable__label-arrow:hover:before {color: black;}#sk-container-id-1 div.sk-estimator:hover label.sk-toggleable__label-arrow:before {color: black;}#sk-container-id-1 div.sk-toggleable__content {max-height: 0;max-width: 0;overflow: hidden;text-align: left;background-color: #f0f8ff;}#sk-container-id-1 div.sk-toggleable__content pre {margin: 0.2em;color: black;border-radius: 0.25em;background-color: #f0f8ff;}#sk-container-id-1 input.sk-toggleable__control:checked~div.sk-toggleable__content {max-height: 200px;max-width: 100%;overflow: auto;}#sk-container-id-1 input.sk-toggleable__control:checked~label.sk-toggleable__label-arrow:before {content: \"▾\";}#sk-container-id-1 div.sk-estimator input.sk-toggleable__control:checked~label.sk-toggleable__label {background-color: #d4ebff;}#sk-container-id-1 div.sk-label input.sk-toggleable__control:checked~label.sk-toggleable__label {background-color: #d4ebff;}#sk-container-id-1 input.sk-hidden--visually {border: 0;clip: rect(1px 1px 1px 1px);clip: rect(1px, 1px, 1px, 1px);height: 1px;margin: -1px;overflow: hidden;padding: 0;position: absolute;width: 1px;}#sk-container-id-1 div.sk-estimator {font-family: monospace;background-color: #f0f8ff;border: 1px dotted black;border-radius: 0.25em;box-sizing: border-box;margin-bottom: 0.5em;}#sk-container-id-1 div.sk-estimator:hover {background-color: #d4ebff;}#sk-container-id-1 div.sk-parallel-item::after {content: \"\";width: 100%;border-bottom: 1px solid gray;flex-grow: 1;}#sk-container-id-1 div.sk-label:hover label.sk-toggleable__label {background-color: #d4ebff;}#sk-container-id-1 div.sk-serial::before {content: \"\";position: absolute;border-left: 1px solid gray;box-sizing: border-box;top: 0;bottom: 0;left: 50%;z-index: 0;}#sk-container-id-1 div.sk-serial {display: flex;flex-direction: column;align-items: center;background-color: white;padding-right: 0.2em;padding-left: 0.2em;position: relative;}#sk-container-id-1 div.sk-item {position: relative;z-index: 1;}#sk-container-id-1 div.sk-parallel {display: flex;align-items: stretch;justify-content: center;background-color: white;position: relative;}#sk-container-id-1 div.sk-item::before, #sk-container-id-1 div.sk-parallel-item::before {content: \"\";position: absolute;border-left: 1px solid gray;box-sizing: border-box;top: 0;bottom: 0;left: 50%;z-index: -1;}#sk-container-id-1 div.sk-parallel-item {display: flex;flex-direction: column;z-index: 1;position: relative;background-color: white;}#sk-container-id-1 div.sk-parallel-item:first-child::after {align-self: flex-end;width: 50%;}#sk-container-id-1 div.sk-parallel-item:last-child::after {align-self: flex-start;width: 50%;}#sk-container-id-1 div.sk-parallel-item:only-child::after {width: 0;}#sk-container-id-1 div.sk-dashed-wrapped {border: 1px dashed gray;margin: 0 0.4em 0.5em 0.4em;box-sizing: border-box;padding-bottom: 0.4em;background-color: white;}#sk-container-id-1 div.sk-label label {font-family: monospace;font-weight: bold;display: inline-block;line-height: 1.2em;}#sk-container-id-1 div.sk-label-container {text-align: center;}#sk-container-id-1 div.sk-container {/* jupyter's `normalize.less` sets `[hidden] { display: none; }` but bootstrap.min.css set `[hidden] { display: none !important; }` so we also need the `!important` here to be able to override the default hidden behavior on the sphinx rendered scikit-learn.org. See: https://github.com/scikit-learn/scikit-learn/issues/21755 */display: inline-block !important;position: relative;}#sk-container-id-1 div.sk-text-repr-fallback {display: none;}</style><div id=\"sk-container-id-1\" class=\"sk-top-container\"><div class=\"sk-text-repr-fallback\"><pre>LinearRegression()</pre><b>In a Jupyter environment, please rerun this cell to show the HTML representation or trust the notebook. <br />On GitHub, the HTML representation is unable to render, please try loading this page with nbviewer.org.</b></div><div class=\"sk-container\" hidden><div class=\"sk-item\"><div class=\"sk-estimator sk-toggleable\"><input class=\"sk-toggleable__control sk-hidden--visually\" id=\"sk-estimator-id-1\" type=\"checkbox\" checked><label for=\"sk-estimator-id-1\" class=\"sk-toggleable__label sk-toggleable__label-arrow\">LinearRegression</label><div class=\"sk-toggleable__content\"><pre>LinearRegression()</pre></div></div></div></div></div>"
      ],
      "text/plain": [
       "LinearRegression()"
      ]
     },
     "execution_count": 27,
     "metadata": {},
     "output_type": "execute_result"
    }
   ],
   "source": [
    "lr.fit(X_train,y_train)"
   ]
  },
  {
   "cell_type": "code",
   "execution_count": 28,
   "id": "5c13fb0e",
   "metadata": {
    "execution": {
     "iopub.execute_input": "2025-02-07T18:21:31.724325Z",
     "iopub.status.busy": "2025-02-07T18:21:31.723964Z",
     "iopub.status.idle": "2025-02-07T18:21:31.730006Z",
     "shell.execute_reply": "2025-02-07T18:21:31.729049Z"
    },
    "papermill": {
     "duration": 0.021441,
     "end_time": "2025-02-07T18:21:31.732156",
     "exception": false,
     "start_time": "2025-02-07T18:21:31.710715",
     "status": "completed"
    },
    "tags": []
   },
   "outputs": [
    {
     "data": {
      "text/plain": [
       "24"
      ]
     },
     "execution_count": 28,
     "metadata": {},
     "output_type": "execute_result"
    }
   ],
   "source": [
    "X_train.shape[0]"
   ]
  },
  {
   "cell_type": "code",
   "execution_count": 29,
   "id": "f6d5205e",
   "metadata": {
    "execution": {
     "iopub.execute_input": "2025-02-07T18:21:31.758061Z",
     "iopub.status.busy": "2025-02-07T18:21:31.757719Z",
     "iopub.status.idle": "2025-02-07T18:21:31.763854Z",
     "shell.execute_reply": "2025-02-07T18:21:31.762872Z"
    },
    "papermill": {
     "duration": 0.020965,
     "end_time": "2025-02-07T18:21:31.765604",
     "exception": false,
     "start_time": "2025-02-07T18:21:31.744639",
     "status": "completed"
    },
    "tags": []
   },
   "outputs": [
    {
     "data": {
      "text/plain": [
       "array([8.3])"
      ]
     },
     "execution_count": 29,
     "metadata": {},
     "output_type": "execute_result"
    }
   ],
   "source": [
    "X_train[0]"
   ]
  },
  {
   "cell_type": "code",
   "execution_count": 30,
   "id": "776f6d27",
   "metadata": {
    "execution": {
     "iopub.execute_input": "2025-02-07T18:21:31.791849Z",
     "iopub.status.busy": "2025-02-07T18:21:31.791485Z",
     "iopub.status.idle": "2025-02-07T18:21:31.797080Z",
     "shell.execute_reply": "2025-02-07T18:21:31.796046Z"
    },
    "papermill": {
     "duration": 0.020632,
     "end_time": "2025-02-07T18:21:31.798708",
     "exception": false,
     "start_time": "2025-02-07T18:21:31.778076",
     "status": "completed"
    },
    "tags": []
   },
   "outputs": [
    {
     "data": {
      "text/plain": [
       "5.754166666666666"
      ]
     },
     "execution_count": 30,
     "metadata": {},
     "output_type": "execute_result"
    }
   ],
   "source": [
    "X_train.mean()"
   ]
  },
  {
   "cell_type": "code",
   "execution_count": 31,
   "id": "9c348f14",
   "metadata": {
    "execution": {
     "iopub.execute_input": "2025-02-07T18:21:31.824887Z",
     "iopub.status.busy": "2025-02-07T18:21:31.824525Z",
     "iopub.status.idle": "2025-02-07T18:21:31.830443Z",
     "shell.execute_reply": "2025-02-07T18:21:31.829306Z"
    },
    "papermill": {
     "duration": 0.021061,
     "end_time": "2025-02-07T18:21:31.832153",
     "exception": false,
     "start_time": "2025-02-07T18:21:31.811092",
     "status": "completed"
    },
    "tags": []
   },
   "outputs": [
    {
     "data": {
      "text/plain": [
       "1.4"
      ]
     },
     "execution_count": 31,
     "metadata": {},
     "output_type": "execute_result"
    }
   ],
   "source": [
    "X_test[0]"
   ]
  },
  {
   "cell_type": "code",
   "execution_count": 32,
   "id": "2f836dff",
   "metadata": {
    "execution": {
     "iopub.execute_input": "2025-02-07T18:21:31.858765Z",
     "iopub.status.busy": "2025-02-07T18:21:31.858397Z",
     "iopub.status.idle": "2025-02-07T18:21:31.864427Z",
     "shell.execute_reply": "2025-02-07T18:21:31.863271Z"
    },
    "papermill": {
     "duration": 0.021363,
     "end_time": "2025-02-07T18:21:31.866149",
     "exception": false,
     "start_time": "2025-02-07T18:21:31.844786",
     "status": "completed"
    },
    "tags": []
   },
   "outputs": [
    {
     "name": "stdout",
     "output_type": "stream",
     "text": [
      "1.4\n",
      "[36834.63210301]\n"
     ]
    }
   ],
   "source": [
    "print(X_test[0])\n",
    "print(lr.predict(np.array(X_test[0]).reshape(1, -1)))"
   ]
  },
  {
   "cell_type": "code",
   "execution_count": 33,
   "id": "2e20b837",
   "metadata": {
    "execution": {
     "iopub.execute_input": "2025-02-07T18:21:31.892451Z",
     "iopub.status.busy": "2025-02-07T18:21:31.892039Z",
     "iopub.status.idle": "2025-02-07T18:21:32.223693Z",
     "shell.execute_reply": "2025-02-07T18:21:32.222474Z"
    },
    "papermill": {
     "duration": 0.346769,
     "end_time": "2025-02-07T18:21:32.225501",
     "exception": false,
     "start_time": "2025-02-07T18:21:31.878732",
     "status": "completed"
    },
    "tags": []
   },
   "outputs": [
    {
     "data": {
      "image/png": "[encoded data removed]",
      "text/plain": [
       "<Figure size 800x600 with 2 Axes>"
      ]
     },
     "metadata": {},
     "output_type": "display_data"
    }
   ],
   "source": [
    "y_pred = lr.predict(X_test.reshape(-1,1))\n",
    "y_pred_class = (y_pred > threshold).astype(int)\n",
    "cm = confusion_matrix(y_test, y_pred_class)\n",
    "\n",
    "\n",
    "plt.figure(figsize=(8, 6))\n",
    "sns.heatmap(cm, annot=True, fmt='d', cmap=['#F4A261','#E76F51'])\n",
    "plt.xlabel('Predicted')\n",
    "plt.ylabel('Actual')\n",
    "plt.title('Confusion Matrix')\n",
    "plt.show()"
   ]
  },
  {
   "cell_type": "markdown",
   "id": "0a482c20",
   "metadata": {
    "papermill": {
     "duration": 0.012602,
     "end_time": "2025-02-07T18:21:32.251424",
     "exception": false,
     "start_time": "2025-02-07T18:21:32.238822",
     "status": "completed"
    },
    "tags": []
   },
   "source": [
    "# <p style=\"background-color:#B43F3F;font-family:newtimeroman;color:#F4A261;font-size:150%;text-align:center;border-radius:20px 60px;\">Same Prediction</p>"
   ]
  },
  {
   "cell_type": "code",
   "execution_count": null,
   "id": "96e2d9a5",
   "metadata": {
    "papermill": {
     "duration": 0.014143,
     "end_time": "2025-02-07T18:21:32.278936",
     "exception": false,
     "start_time": "2025-02-07T18:21:32.264793",
     "status": "completed"
    },
    "tags": []
   },
   "outputs": [],
   "source": []
  }
 ],
 "metadata": {
  "kaggle": {
   "accelerator": "none",
   "dataSources": [
    {
     "datasetId": 2799910,
     "sourceId": 4832081,
     "sourceType": "datasetVersion"
    }
   ],
   "dockerImageVersionId": 30839,
   "isGpuEnabled": false,
   "isInternetEnabled": true,
   "language": "python",
   "sourceType": "notebook"
  },
  "kernelspec": {
   "display_name": "Python 3",
   "language": "python",
   "name": "python3"
  },
  "language_info": {
   "codemirror_mode": {
    "name": "ipython",
    "version": 3
   },
   "file_extension": ".py",
   "mimetype": "text/x-python",
   "name": "python",
   "nbconvert_exporter": "python",
   "pygments_lexer": "ipython3",
   "version": "3.10.12"
  },
  "papermill": {
   "default_parameters": {},
   "duration": 9.642136,
   "end_time": "2025-02-07T18:21:33.014722",
   "environment_variables": {},
   "exception": null,
   "input_path": "__notebook__.ipynb",
   "output_path": "__notebook__.ipynb",
   "parameters": {},
   "start_time": "2025-02-07T18:21:23.372586",
   "version": "2.6.0"
  }
 },
 "nbformat": 4,
 "nbformat_minor": 5
}
