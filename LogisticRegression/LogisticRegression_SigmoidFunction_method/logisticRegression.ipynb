{
 "cells": [
  {
   "cell_type": "code",
   "execution_count": 1,
   "id": "93f6285b",
   "metadata": {
    "_cell_guid": "b1076dfc-b9ad-4769-8c92-a6c4dae69d19",
    "_uuid": "8f2839f25d086af736a60e9eeb907d3b93b6e0e5",
    "execution": {
     "iopub.execute_input": "2025-04-15T18:29:25.652921Z",
     "iopub.status.busy": "2025-04-15T18:29:25.652604Z",
     "iopub.status.idle": "2025-04-15T18:29:25.659776Z",
     "shell.execute_reply": "2025-04-15T18:29:25.658908Z"
    },
    "papermill": {
     "duration": 0.012261,
     "end_time": "2025-04-15T18:29:25.661379",
     "exception": false,
     "start_time": "2025-04-15T18:29:25.649118",
     "status": "completed"
    },
    "tags": []
   },
   "outputs": [],
   "source": [
    "import numpy as np"
   ]
  },
  {
   "cell_type": "code",
   "execution_count": 2,
   "id": "9d3b320b",
   "metadata": {
    "execution": {
     "iopub.execute_input": "2025-04-15T18:29:25.666301Z",
     "iopub.status.busy": "2025-04-15T18:29:25.665975Z",
     "iopub.status.idle": "2025-04-15T18:29:25.673820Z",
     "shell.execute_reply": "2025-04-15T18:29:25.672957Z"
    },
    "papermill": {
     "duration": 0.011854,
     "end_time": "2025-04-15T18:29:25.675248",
     "exception": false,
     "start_time": "2025-04-15T18:29:25.663394",
     "status": "completed"
    },
    "tags": []
   },
   "outputs": [],
   "source": [
    "class LogisticRegression:\n",
    "    def __init__(self, learning_rate=0.01, n_iterations=1000):\n",
    "        self.learning_rate = learning_rate\n",
    "        self.n_iterations = n_iterations\n",
    "        self.weights = None\n",
    "        self.bias = None\n",
    "\n",
    "    def sigmoid(self, z):\n",
    "        return 1 / (1 + np.exp(-z))\n",
    "\n",
    "    def fit(self, X, y):\n",
    "        # Initialize weights and bias\n",
    "        n_samples, n_features = X.shape\n",
    "        self.weights = np.zeros(n_features)\n",
    "        self.bias = 0\n",
    "\n",
    "        # Gradient descent\n",
    "        for _ in range(self.n_iterations):\n",
    "            # Linear model\n",
    "            linear_model = np.dot(X, self.weights) + self.bias\n",
    "            # Apply sigmoid function\n",
    "            y_predicted = self.sigmoid(linear_model)\n",
    "\n",
    "            # Compute gradients\n",
    "            dw = (1 / n_samples) * np.dot(X.T, (y_predicted - y))\n",
    "            db = (1 / n_samples) * np.sum(y_predicted - y)\n",
    "\n",
    "            # Update parameters\n",
    "            self.weights -= self.learning_rate * dw\n",
    "            self.bias -= self.learning_rate * db\n",
    "\n",
    "    def predict(self, X):\n",
    "        linear_model = np.dot(X, self.weights) + self.bias\n",
    "        y_predicted = self.sigmoid(linear_model)\n",
    "        y_predicted_cls = [1 if i > 0.5 else 0 for i in y_predicted]\n",
    "        return np.array(y_predicted_cls)"
   ]
  },
  {
   "cell_type": "code",
   "execution_count": 3,
   "id": "14e8cfeb",
   "metadata": {
    "execution": {
     "iopub.execute_input": "2025-04-15T18:29:25.680056Z",
     "iopub.status.busy": "2025-04-15T18:29:25.679744Z",
     "iopub.status.idle": "2025-04-15T18:29:27.380036Z",
     "shell.execute_reply": "2025-04-15T18:29:27.378702Z"
    },
    "papermill": {
     "duration": 1.704571,
     "end_time": "2025-04-15T18:29:27.381686",
     "exception": false,
     "start_time": "2025-04-15T18:29:25.677115",
     "status": "completed"
    },
    "tags": []
   },
   "outputs": [
    {
     "name": "stdout",
     "output_type": "stream",
     "text": [
      "Accuracy: 0.82\n"
     ]
    }
   ],
   "source": [
    "if __name__ == \"__main__\":\n",
    "    # Toy dataset\n",
    "    from sklearn.model_selection import train_test_split\n",
    "    from sklearn.datasets import make_classification\n",
    "\n",
    "    X, y = make_classification(n_samples=1000, n_features=10, n_classes=2, random_state=42)\n",
    "    X_train, X_test, y_train, y_test = train_test_split(X, y, test_size=0.2, random_state=42)\n",
    "\n",
    "    model = LogisticRegression(learning_rate=0.01, n_iterations=1000)\n",
    "    model.fit(X_train, y_train)\n",
    "    predictions = model.predict(X_test)\n",
    "\n",
    "    # Evaluate the model\n",
    "    accuracy = np.mean(predictions == y_test)\n",
    "    print(f\"Accuracy: {accuracy:.2f}\")"
   ]
  },
  {
   "cell_type": "code",
   "execution_count": null,
   "id": "e571f429",
   "metadata": {
    "papermill": {
     "duration": 0.00145,
     "end_time": "2025-04-15T18:29:27.385028",
     "exception": false,
     "start_time": "2025-04-15T18:29:27.383578",
     "status": "completed"
    },
    "tags": []
   },
   "outputs": [],
   "source": []
  }
 ],
 "metadata": {
  "kaggle": {
   "accelerator": "none",
   "dataSources": [],
   "dockerImageVersionId": 31012,
   "isGpuEnabled": false,
   "isInternetEnabled": true,
   "language": "python",
   "sourceType": "notebook"
  },
  "kernelspec": {
   "display_name": "Python 3",
   "language": "python",
   "name": "python3"
  },
  "language_info": {
   "codemirror_mode": {
    "name": "ipython",
    "version": 3
   },
   "file_extension": ".py",
   "mimetype": "text/x-python",
   "name": "python",
   "nbconvert_exporter": "python",
   "pygments_lexer": "ipython3",
   "version": "3.11.11"
  },
  "papermill": {
   "default_parameters": {},
   "duration": 6.995854,
   "end_time": "2025-04-15T18:29:27.906648",
   "environment_variables": {},
   "exception": null,
   "input_path": "__notebook__.ipynb",
   "output_path": "__notebook__.ipynb",
   "parameters": {},
   "start_time": "2025-04-15T18:29:20.910794",
   "version": "2.6.0"
  }
 },
 "nbformat": 4,
 "nbformat_minor": 5
}
