{
 "cells": [
  {
   "cell_type": "markdown",
   "id": "3dc413de",
   "metadata": {
    "papermill": {
     "duration": 0.003992,
     "end_time": "2025-04-17T21:00:38.577377",
     "exception": false,
     "start_time": "2025-04-17T21:00:38.573385",
     "status": "completed"
    },
    "tags": []
   },
   "source": [
    "# <p style=\"background-color:#F4A261;font-family:newtimeroman;color:#B43F3F;font-size:150%;text-align:center;border-radius:20px 60px;\">Logistic Regression From Scratch using Sigmoid Function</p>"
   ]
  },
  {
   "cell_type": "code",
   "execution_count": 1,
   "id": "221d0f0f",
   "metadata": {
    "_cell_guid": "b1076dfc-b9ad-4769-8c92-a6c4dae69d19",
    "_uuid": "8f2839f25d086af736a60e9eeb907d3b93b6e0e5",
    "execution": {
     "iopub.execute_input": "2025-04-17T21:00:38.585950Z",
     "iopub.status.busy": "2025-04-17T21:00:38.584983Z",
     "iopub.status.idle": "2025-04-17T21:00:38.592127Z",
     "shell.execute_reply": "2025-04-17T21:00:38.591440Z"
    },
    "papermill": {
     "duration": 0.012525,
     "end_time": "2025-04-17T21:00:38.593313",
     "exception": false,
     "start_time": "2025-04-17T21:00:38.580788",
     "status": "completed"
    },
    "tags": []
   },
   "outputs": [],
   "source": [
    "import numpy as np"
   ]
  },
  {
   "cell_type": "code",
   "execution_count": 2,
   "id": "9e2a09c3",
   "metadata": {
    "execution": {
     "iopub.execute_input": "2025-04-17T21:00:38.600992Z",
     "iopub.status.busy": "2025-04-17T21:00:38.600406Z",
     "iopub.status.idle": "2025-04-17T21:00:38.607465Z",
     "shell.execute_reply": "2025-04-17T21:00:38.606798Z"
    },
    "papermill": {
     "duration": 0.012145,
     "end_time": "2025-04-17T21:00:38.608764",
     "exception": false,
     "start_time": "2025-04-17T21:00:38.596619",
     "status": "completed"
    },
    "tags": []
   },
   "outputs": [],
   "source": [
    "class LogisticRegression:\n",
    "    def __init__(self, learning_rate=0.01, n_iterations=1000):\n",
    "        self.learning_rate= learning_rate\n",
    "        self.n_iterations= n_iterations\n",
    "        self.weights= None\n",
    "        self.bias= None\n",
    "\n",
    "    def sigmoid(self, z):\n",
    "        return 1 / (1 + np.exp(-z))# sigmoid function/formula\n",
    "\n",
    "    def fit(self, X, y):\n",
    "        n_samples, n_features= X.shape\n",
    "        self.weights= np.zeros(n_features)\n",
    "        self.bias= 0\n",
    "\n",
    "        #Gradient descent\n",
    "        for _ in range(self.n_iterations):\n",
    "            #linear model\n",
    "            linear_model= np.dot(X, self.weights) + self.bias\n",
    "            #sigmoid function\n",
    "            y_predicted= self.sigmoid(linear_model)\n",
    "\n",
    "            #calc gradients\n",
    "            dw = (1 / n_samples) * np.dot(X.T, (y_predicted - y))\n",
    "            db = (1 / n_samples) * np.sum(y_predicted - y)\n",
    "\n",
    "            #update vals\n",
    "            self.weights -= self.learning_rate * dw\n",
    "            self.bias -= self.learning_rate * db\n",
    "\n",
    "    def predict(self, X):\n",
    "        linear_model = np.dot(X, self.weights) + self.bias\n",
    "        y_predicted = self.sigmoid(linear_model)\n",
    "        y_predicted_cls = [1 if i > 0.5 else 0 for i in y_predicted]\n",
    "        return np.array(y_predicted_cls)"
   ]
  },
  {
   "cell_type": "markdown",
   "id": "a5a4b56b",
   "metadata": {
    "papermill": {
     "duration": 0.002872,
     "end_time": "2025-04-17T21:00:38.614959",
     "exception": false,
     "start_time": "2025-04-17T21:00:38.612087",
     "status": "completed"
    },
    "tags": []
   },
   "source": [
    "# <p style=\"background-color:#F4A261;font-family:newtimeroman;color:#B43F3F;font-size:150%;text-align:center;border-radius:20px 60px;\">Importing libraries</p>"
   ]
  },
  {
   "cell_type": "code",
   "execution_count": 3,
   "id": "1a7d3c26",
   "metadata": {
    "execution": {
     "iopub.execute_input": "2025-04-17T21:00:38.623259Z",
     "iopub.status.busy": "2025-04-17T21:00:38.622985Z",
     "iopub.status.idle": "2025-04-17T21:00:42.495069Z",
     "shell.execute_reply": "2025-04-17T21:00:42.494364Z"
    },
    "papermill": {
     "duration": 3.877505,
     "end_time": "2025-04-17T21:00:42.496647",
     "exception": false,
     "start_time": "2025-04-17T21:00:38.619142",
     "status": "completed"
    },
    "tags": []
   },
   "outputs": [],
   "source": [
    "from sklearn.datasets import make_classification\n",
    "from sklearn.model_selection import train_test_split\n",
    "import matplotlib.pyplot as plt\n",
    "import seaborn as sns\n",
    "from sklearn.metrics import confusion_matrix"
   ]
  },
  {
   "cell_type": "markdown",
   "id": "debd6f2d",
   "metadata": {
    "papermill": {
     "duration": 0.002696,
     "end_time": "2025-04-17T21:00:42.502613",
     "exception": false,
     "start_time": "2025-04-17T21:00:42.499917",
     "status": "completed"
    },
    "tags": []
   },
   "source": [
    "# <p style=\"background-color:#F4A261;font-family:newtimeroman;color:#B43F3F;font-size:150%;text-align:center;border-radius:20px 60px;\">Dummy dataset </p>"
   ]
  },
  {
   "cell_type": "code",
   "execution_count": 4,
   "id": "dc209797",
   "metadata": {
    "execution": {
     "iopub.execute_input": "2025-04-17T21:00:42.512572Z",
     "iopub.status.busy": "2025-04-17T21:00:42.511547Z",
     "iopub.status.idle": "2025-04-17T21:00:42.534702Z",
     "shell.execute_reply": "2025-04-17T21:00:42.533689Z"
    },
    "papermill": {
     "duration": 0.030809,
     "end_time": "2025-04-17T21:00:42.536405",
     "exception": false,
     "start_time": "2025-04-17T21:00:42.505596",
     "status": "completed"
    },
    "tags": []
   },
   "outputs": [],
   "source": [
    "X, y = make_classification(n_samples=1000, n_features=10, n_classes=2, random_state=42)\n",
    "X_train, X_test, y_train, y_test = train_test_split(X, y, test_size=0.2, random_state=42)"
   ]
  },
  {
   "cell_type": "markdown",
   "id": "465cb990",
   "metadata": {
    "papermill": {
     "duration": 0.003416,
     "end_time": "2025-04-17T21:00:42.543730",
     "exception": false,
     "start_time": "2025-04-17T21:00:42.540314",
     "status": "completed"
    },
    "tags": []
   },
   "source": [
    "# <p style=\"background-color:#F4A261;font-family:newtimeroman;color:#B43F3F;font-size:150%;text-align:center;border-radius:20px 60px;\">Using Logistic Regression class</p>"
   ]
  },
  {
   "cell_type": "code",
   "execution_count": 5,
   "id": "9fc42c42",
   "metadata": {
    "execution": {
     "iopub.execute_input": "2025-04-17T21:00:42.551443Z",
     "iopub.status.busy": "2025-04-17T21:00:42.550638Z",
     "iopub.status.idle": "2025-04-17T21:00:42.622012Z",
     "shell.execute_reply": "2025-04-17T21:00:42.621002Z"
    },
    "papermill": {
     "duration": 0.076494,
     "end_time": "2025-04-17T21:00:42.623392",
     "exception": false,
     "start_time": "2025-04-17T21:00:42.546898",
     "status": "completed"
    },
    "tags": []
   },
   "outputs": [
    {
     "name": "stdout",
     "output_type": "stream",
     "text": [
      "Accuracy: 0.82\n"
     ]
    }
   ],
   "source": [
    "model = LogisticRegression(learning_rate=0.01, n_iterations=1000)\n",
    "model.fit(X_train, y_train)\n",
    "predictions = model.predict(X_test)\n",
    "\n",
    "#model accuracy \n",
    "accuracy = np.mean(predictions == y_test)\n",
    "print(f\"Accuracy: {accuracy:.2f}\")"
   ]
  },
  {
   "cell_type": "markdown",
   "id": "a855dce0",
   "metadata": {
    "papermill": {
     "duration": 0.002886,
     "end_time": "2025-04-17T21:00:42.629540",
     "exception": false,
     "start_time": "2025-04-17T21:00:42.626654",
     "status": "completed"
    },
    "tags": []
   },
   "source": [
    "# <p style=\"background-color:#F4A261;font-family:newtimeroman;color:#B43F3F;font-size:150%;text-align:center;border-radius:20px 60px;\">Confusion Matrix for Logistic Regression class</p>"
   ]
  },
  {
   "cell_type": "code",
   "execution_count": 6,
   "id": "70acc7b9",
   "metadata": {
    "execution": {
     "iopub.execute_input": "2025-04-17T21:00:42.636657Z",
     "iopub.status.busy": "2025-04-17T21:00:42.636374Z",
     "iopub.status.idle": "2025-04-17T21:00:42.895558Z",
     "shell.execute_reply": "2025-04-17T21:00:42.894710Z"
    },
    "papermill": {
     "duration": 0.2643,
     "end_time": "2025-04-17T21:00:42.896966",
     "exception": false,
     "start_time": "2025-04-17T21:00:42.632666",
     "status": "completed"
    },
    "tags": []
   },
   "outputs": [
    {
     "data": {
      "image/png": "[encoded data removed]",
      "text/plain": [
       "<Figure size 800x600 with 2 Axes>"
      ]
     },
     "metadata": {},
     "output_type": "display_data"
    }
   ],
   "source": [
    "threshold = 0.5\n",
    "y_pred = model.predict(X_test)\n",
    "y_pred_class = (y_pred > threshold).astype(int)\n",
    "cm = confusion_matrix(y_test, y_pred_class)\n",
    "\n",
    "\n",
    "plt.figure(figsize=(8, 6))\n",
    "sns.heatmap(cm, annot=True, fmt='d', cmap=['#F4A261','#E76F51'])\n",
    "plt.xlabel('Predicted')\n",
    "plt.ylabel('Actual')\n",
    "plt.title('Confusion Matrix')\n",
    "plt.show()"
   ]
  },
  {
   "cell_type": "markdown",
   "id": "bd49ebd9",
   "metadata": {
    "papermill": {
     "duration": 0.003207,
     "end_time": "2025-04-17T21:00:42.903708",
     "exception": false,
     "start_time": "2025-04-17T21:00:42.900501",
     "status": "completed"
    },
    "tags": []
   },
   "source": [
    "# <p style=\"background-color:#F4A261;font-family:newtimeroman;color:#B43F3F;font-size:150%;text-align:center;border-radius:20px 60px;\">Logistic Regression using sklearn </p>"
   ]
  },
  {
   "cell_type": "code",
   "execution_count": 7,
   "id": "c6a267af",
   "metadata": {
    "execution": {
     "iopub.execute_input": "2025-04-17T21:00:42.911731Z",
     "iopub.status.busy": "2025-04-17T21:00:42.911162Z",
     "iopub.status.idle": "2025-04-17T21:00:43.005785Z",
     "shell.execute_reply": "2025-04-17T21:00:43.004820Z"
    },
    "papermill": {
     "duration": 0.100387,
     "end_time": "2025-04-17T21:00:43.007474",
     "exception": false,
     "start_time": "2025-04-17T21:00:42.907087",
     "status": "completed"
    },
    "tags": []
   },
   "outputs": [],
   "source": [
    "from sklearn.linear_model import LogisticRegression"
   ]
  },
  {
   "cell_type": "code",
   "execution_count": 8,
   "id": "261aae39",
   "metadata": {
    "execution": {
     "iopub.execute_input": "2025-04-17T21:00:43.015567Z",
     "iopub.status.busy": "2025-04-17T21:00:43.015283Z",
     "iopub.status.idle": "2025-04-17T21:00:43.047684Z",
     "shell.execute_reply": "2025-04-17T21:00:43.046048Z"
    },
    "papermill": {
     "duration": 0.038297,
     "end_time": "2025-04-17T21:00:43.049346",
     "exception": false,
     "start_time": "2025-04-17T21:00:43.011049",
     "status": "completed"
    },
    "tags": []
   },
   "outputs": [
    {
     "name": "stdout",
     "output_type": "stream",
     "text": [
      "Accuracy: 0.83\n"
     ]
    }
   ],
   "source": [
    "model= LogisticRegression(random_state=0).fit(X_train, y_train)\n",
    "# model.fit(X_train, y_train)\n",
    "\n",
    "predictions= model.predict(X_test)\n",
    "accuracy= np.mean(predictions == y_test)\n",
    "print(f\"Accuracy: {accuracy:.2f}\")"
   ]
  },
  {
   "cell_type": "markdown",
   "id": "352559db",
   "metadata": {
    "papermill": {
     "duration": 0.004128,
     "end_time": "2025-04-17T21:00:43.058126",
     "exception": false,
     "start_time": "2025-04-17T21:00:43.053998",
     "status": "completed"
    },
    "tags": []
   },
   "source": [
    "# <p style=\"background-color:#F4A261;font-family:newtimeroman;color:#B43F3F;font-size:150%;text-align:center;border-radius:20px 60px;\">Confusion Matrix for sklearn </p>"
   ]
  },
  {
   "cell_type": "code",
   "execution_count": 9,
   "id": "cdd35766",
   "metadata": {
    "execution": {
     "iopub.execute_input": "2025-04-17T21:00:43.069496Z",
     "iopub.status.busy": "2025-04-17T21:00:43.069171Z",
     "iopub.status.idle": "2025-04-17T21:00:43.281395Z",
     "shell.execute_reply": "2025-04-17T21:00:43.280522Z"
    },
    "papermill": {
     "duration": 0.22013,
     "end_time": "2025-04-17T21:00:43.282686",
     "exception": false,
     "start_time": "2025-04-17T21:00:43.062556",
     "status": "completed"
    },
    "tags": []
   },
   "outputs": [
    {
     "data": {
      "image/png": "[encoded data removed]",
      "text/plain": [
       "<Figure size 800x600 with 2 Axes>"
      ]
     },
     "metadata": {},
     "output_type": "display_data"
    }
   ],
   "source": [
    "threshold = 0.5\n",
    "y_pred = model.predict(X_test)\n",
    "y_pred_class = (y_pred > threshold).astype(int)\n",
    "cm = confusion_matrix(y_test, y_pred_class)\n",
    "\n",
    "\n",
    "plt.figure(figsize=(8, 6))\n",
    "sns.heatmap(cm, annot=True, fmt='d', cmap=['#F4A261','#E76F51'])\n",
    "plt.xlabel('Predicted')\n",
    "plt.ylabel('Actual')\n",
    "plt.title('Confusion Matrix')\n",
    "plt.show()"
   ]
  },
  {
   "cell_type": "markdown",
   "id": "511b2e7e",
   "metadata": {
    "papermill": {
     "duration": 0.003577,
     "end_time": "2025-04-17T21:00:43.290256",
     "exception": false,
     "start_time": "2025-04-17T21:00:43.286679",
     "status": "completed"
    },
    "tags": []
   },
   "source": [
    "# <p style=\"background-color:#F4A261;font-family:newtimeroman;color:#B43F3F;font-size:150%;text-align:center;border-radius:20px 60px;\">Almost Same!</p>"
   ]
  },
  {
   "cell_type": "code",
   "execution_count": null,
   "id": "84182994",
   "metadata": {
    "papermill": {
     "duration": 0.003588,
     "end_time": "2025-04-17T21:00:43.297452",
     "exception": false,
     "start_time": "2025-04-17T21:00:43.293864",
     "status": "completed"
    },
    "tags": []
   },
   "outputs": [],
   "source": []
  }
 ],
 "metadata": {
  "kaggle": {
   "accelerator": "none",
   "dataSources": [],
   "dockerImageVersionId": 31012,
   "isGpuEnabled": false,
   "isInternetEnabled": true,
   "language": "python",
   "sourceType": "notebook"
  },
  "kernelspec": {
   "display_name": "Python 3",
   "language": "python",
   "name": "python3"
  },
  "language_info": {
   "codemirror_mode": {
    "name": "ipython",
    "version": 3
   },
   "file_extension": ".py",
   "mimetype": "text/x-python",
   "name": "python",
   "nbconvert_exporter": "python",
   "pygments_lexer": "ipython3",
   "version": "3.11.11"
  },
  "papermill": {
   "default_parameters": {},
   "duration": 9.934996,
   "end_time": "2025-04-17T21:00:44.021189",
   "environment_variables": {},
   "exception": null,
   "input_path": "__notebook__.ipynb",
   "output_path": "__notebook__.ipynb",
   "parameters": {},
   "start_time": "2025-04-17T21:00:34.086193",
   "version": "2.6.0"
  }
 },
 "nbformat": 4,
 "nbformat_minor": 5
}
