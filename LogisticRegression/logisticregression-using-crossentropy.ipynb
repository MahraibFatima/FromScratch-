{
 "cells": [
  {
   "cell_type": "code",
   "execution_count": 1,
   "id": "79438b98",
   "metadata": {
    "execution": {
     "iopub.execute_input": "2025-04-16T18:10:05.366157Z",
     "iopub.status.busy": "2025-04-16T18:10:05.365309Z",
     "iopub.status.idle": "2025-04-16T18:10:05.375418Z",
     "shell.execute_reply": "2025-04-16T18:10:05.374542Z"
    },
    "papermill": {
     "duration": 0.015037,
     "end_time": "2025-04-16T18:10:05.376918",
     "exception": false,
     "start_time": "2025-04-16T18:10:05.361881",
     "status": "completed"
    },
    "tags": []
   },
   "outputs": [],
   "source": [
    "import numpy as np"
   ]
  },
  {
   "cell_type": "code",
   "execution_count": 2,
   "id": "3cfa29b3",
   "metadata": {
    "_cell_guid": "b1076dfc-b9ad-4769-8c92-a6c4dae69d19",
    "_uuid": "8f2839f25d086af736a60e9eeb907d3b93b6e0e5",
    "execution": {
     "iopub.execute_input": "2025-04-16T18:10:05.382283Z",
     "iopub.status.busy": "2025-04-16T18:10:05.381887Z",
     "iopub.status.idle": "2025-04-16T18:10:05.396071Z",
     "shell.execute_reply": "2025-04-16T18:10:05.394904Z"
    },
    "papermill": {
     "duration": 0.018729,
     "end_time": "2025-04-16T18:10:05.397768",
     "exception": false,
     "start_time": "2025-04-16T18:10:05.379039",
     "status": "completed"
    },
    "tags": []
   },
   "outputs": [],
   "source": [
    "class LogisticRegressionWithCrossEntropy:\n",
    "    def __init__(self, learning_rate=0.01, n_iterations=1000):\n",
    "        self.learning_rate= learning_rate\n",
    "        self.n_iterations= n_iterations\n",
    "        self.weights= None\n",
    "        self.bias= None\n",
    "\n",
    "    def sigmoid(self, z):\n",
    "        return 1 / (1 + np.exp(-z))\n",
    "\n",
    "    def compute_loss(self, y, y_hat):\n",
    "        \n",
    "        #Compute the cross-entropy loss.\n",
    "        \n",
    "        n_samples= y.shape[0]\n",
    "        loss= -np.mean(y * np.log(y_hat + 1e-15) + (1 - y) * np.log(1 - y_hat + 1e-15))\n",
    "        return loss\n",
    "\n",
    "    def fit(self, X, y):\n",
    "        n_samples, n_features= X.shape\n",
    "        self.weights= np.zeros(n_features)\n",
    "        self.bias= 0\n",
    "\n",
    "        for i in range(self.n_iterations):\n",
    "            # Linear combination\n",
    "            linear_model= np.dot(X, self.weights) + self.bias\n",
    "            # Apply sigmoid\n",
    "            y_hat= self.sigmoid(linear_model)\n",
    "            \n",
    "            # Compute gradients\n",
    "            dw= (1 / n_samples) * np.dot(X.T, (y_hat - y))\n",
    "            db= (1 / n_samples) * np.sum(y_hat - y)\n",
    "\n",
    "            # Update weights and bias\n",
    "            self.weights -= self.learning_rate * dw\n",
    "            self.bias -= self.learning_rate * db\n",
    "\n",
    "            if i % 100 == 0:\n",
    "                loss= self.compute_loss(y, y_hat)\n",
    "                print(f\"Iteration {i}, Loss: {loss:.4f}\")\n",
    "\n",
    "    def predict(self, X):\n",
    "        linear_model= np.dot(X, self.weights) + self.bias\n",
    "        y_hat= self.sigmoid(linear_model)\n",
    "        y_pred= [1 if i > 0.5 else 0 for i in y_hat]\n",
    "        return np.array(y_pred)\n"
   ]
  },
  {
   "cell_type": "code",
   "execution_count": 3,
   "id": "d92f787d",
   "metadata": {
    "execution": {
     "iopub.execute_input": "2025-04-16T18:10:05.403164Z",
     "iopub.status.busy": "2025-04-16T18:10:05.402724Z",
     "iopub.status.idle": "2025-04-16T18:10:07.432212Z",
     "shell.execute_reply": "2025-04-16T18:10:07.431208Z"
    },
    "papermill": {
     "duration": 2.034057,
     "end_time": "2025-04-16T18:10:07.433803",
     "exception": false,
     "start_time": "2025-04-16T18:10:05.399746",
     "status": "completed"
    },
    "tags": []
   },
   "outputs": [
    {
     "name": "stdout",
     "output_type": "stream",
     "text": [
      "Iteration 0, Loss: 0.6931\n",
      "Iteration 100, Loss: 0.4895\n",
      "Iteration 200, Loss: 0.4215\n",
      "Iteration 300, Loss: 0.3886\n",
      "Iteration 400, Loss: 0.3696\n",
      "Iteration 500, Loss: 0.3574\n",
      "Iteration 600, Loss: 0.3490\n",
      "Iteration 700, Loss: 0.3431\n",
      "Iteration 800, Loss: 0.3386\n",
      "Iteration 900, Loss: 0.3352\n",
      "Accuracy: 0.82\n"
     ]
    }
   ],
   "source": [
    "if __name__ == \"__main__\":\n",
    "    from sklearn.datasets import make_classification\n",
    "    from sklearn.model_selection import train_test_split\n",
    "\n",
    "    # dummt dataset\n",
    "    X, y= make_classification(n_samples=1000, n_features=10, n_classes=2, random_state=42)\n",
    "    X_train, X_test, y_train, y_test = train_test_split(X, y, test_size=0.2, random_state=42)\n",
    "\n",
    "    model= LogisticRegressionWithCrossEntropy(learning_rate=0.01, n_iterations=1000)\n",
    "    model.fit(X_train, y_train)\n",
    "\n",
    "    predictions= model.predict(X_test)\n",
    "    accuracy= np.mean(predictions == y_test)\n",
    "    print(f\"Accuracy: {accuracy:.2f}\")"
   ]
  },
  {
   "cell_type": "code",
   "execution_count": null,
   "id": "680074e7",
   "metadata": {
    "papermill": {
     "duration": 0.0019,
     "end_time": "2025-04-16T18:10:07.437709",
     "exception": false,
     "start_time": "2025-04-16T18:10:07.435809",
     "status": "completed"
    },
    "tags": []
   },
   "outputs": [],
   "source": []
  }
 ],
 "metadata": {
  "kaggle": {
   "accelerator": "none",
   "dataSources": [],
   "dockerImageVersionId": 31012,
   "isGpuEnabled": false,
   "isInternetEnabled": true,
   "language": "python",
   "sourceType": "notebook"
  },
  "kernelspec": {
   "display_name": "Python 3",
   "language": "python",
   "name": "python3"
  },
  "language_info": {
   "codemirror_mode": {
    "name": "ipython",
    "version": 3
   },
   "file_extension": ".py",
   "mimetype": "text/x-python",
   "name": "python",
   "nbconvert_exporter": "python",
   "pygments_lexer": "ipython3",
   "version": "3.11.11"
  },
  "papermill": {
   "default_parameters": {},
   "duration": 7.764581,
   "end_time": "2025-04-16T18:10:07.961401",
   "environment_variables": {},
   "exception": null,
   "input_path": "__notebook__.ipynb",
   "output_path": "__notebook__.ipynb",
   "parameters": {},
   "start_time": "2025-04-16T18:10:00.196820",
   "version": "2.6.0"
  }
 },
 "nbformat": 4,
 "nbformat_minor": 5
}
